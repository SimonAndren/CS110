{
 "cells": [
  {
   "cell_type": "markdown",
   "metadata": {},
   "source": [
    "Before you turn this problem in, make sure everything runs as expected. First, **restart the kernel** (in the menubar, select Kernel$\\rightarrow$Restart) and then **run all cells** (in the menubar, select Cell$\\rightarrow$Run All).\n",
    "\n",
    "Note that this Pre-class Work is estimated to take **45 minutes**.\n",
    "\n",
    "Make sure you fill in any place that says `YOUR CODE HERE` or \"YOUR ANSWER HERE\", as well as your name and collaborators below:"
   ]
  },
  {
   "cell_type": "code",
   "execution_count": 1,
   "metadata": {},
   "outputs": [],
   "source": [
    "NAME = \"Simon Andren\"\n",
    "COLLABORATORS = \"\""
   ]
  },
  {
   "cell_type": "markdown",
   "metadata": {},
   "source": [
    "---"
   ]
  },
  {
   "cell_type": "markdown",
   "metadata": {
    "deletable": false,
    "editable": false,
    "nbgrader": {
     "checksum": "4d981108d5cc409ac26cfbe6fa53cb1f",
     "grade": false,
     "grade_id": "cell-5b237cc13279b029",
     "locked": true,
     "schema_version": 1,
     "solution": false
    }
   },
   "source": [
    "# CS110 Pre-class Work - Hash tables and hash functions\n",
    "\n",
    "## Part A. Direct Address Tables [time estimate: 10 minutes]\n",
    "\n",
    "As the first step in setting up a crossword solving algorithm you need to create 2 direct address tables, one to store all the “up” answers - whether correct or not - and one to store all the “across” answers. Write python code to create a direct address table that allows you to:\n",
    "\n",
    "1. initialize N empty guesses\n",
    "2. set a guess for the i-th entry\n",
    "3. clear an incorrect guess for the i-th entry\n"
   ]
  },
  {
   "cell_type": "code",
   "execution_count": 2,
   "metadata": {
    "deletable": false,
    "nbgrader": {
     "checksum": "69e5d714c7245702b8732209ea0b2b42",
     "grade": true,
     "grade_id": "cell-d8d2e3c1b136cdb9",
     "locked": false,
     "points": 0,
     "schema_version": 1,
     "solution": true
    }
   },
   "outputs": [],
   "source": [
    "def crossword_table(N):\n",
    "    \n",
    "    #empty table of size N\n",
    "    answer = [None]*N\n",
    "    \n",
    "    return answer\n",
    "\n",
    "def guess(table, index, guess):\n",
    "    \n",
    "    #insert the guess value to the key (index)\n",
    "    table[index] = guess\n",
    "    \n",
    "    return table\n",
    "\n",
    "def clear_inc(guess_table, check_table, index):\n",
    "    \n",
    "    #pull out the guess string\n",
    "    guess = guess_table[index]\n",
    "    \n",
    "    #initialize a guess index\n",
    "    i = 0\n",
    "    \n",
    "    #goes through every entry in the other table\n",
    "    for entry in check_table:\n",
    "        \n",
    "        #if the entry in None or match the index character, continue\n",
    "        if entry[index] == guess[i] or entry == None:\n",
    "            i += 1\n",
    "        \n",
    "        #remove the index and return the updated guess table\n",
    "        else:\n",
    "            guess_table.pop(index)\n",
    "            \n",
    "            return guess_table\n",
    "    \n",
    "    return guess_table\n",
    "    "
   ]
  },
  {
   "cell_type": "markdown",
   "metadata": {
    "deletable": false,
    "editable": false,
    "nbgrader": {
     "checksum": "cdb562114e50f9ce1c97be3536b59efa",
     "grade": false,
     "grade_id": "cell-b27891b3ff16f730",
     "locked": true,
     "schema_version": 1,
     "solution": false
    }
   },
   "source": [
    "## Part B. Social Security [time estimate: 3 minutes]\n",
    "\n",
    "Could we use a direct address table to store a country's entire set of social security numbers (aka id numbers)? Why or why not?\n"
   ]
  },
  {
   "cell_type": "markdown",
   "metadata": {
    "deletable": false,
    "nbgrader": {
     "checksum": "7b193e66cbea5bd9dac131a3d6adfefa",
     "grade": true,
     "grade_id": "cell-e751647d9af78c11",
     "locked": false,
     "points": 0,
     "schema_version": 1,
     "solution": true
    }
   },
   "source": [
    "Yes! This is because we have a finite number of social security numbers (keys) and a finite number of values (people). Also each social Security number can only be used one so no collisions"
   ]
  },
  {
   "cell_type": "markdown",
   "metadata": {
    "deletable": false,
    "editable": false,
    "nbgrader": {
     "checksum": "35f74a7f882cabb36df7ee2c43ee51db",
     "grade": false,
     "grade_id": "cell-cba2028918eea1fd",
     "locked": true,
     "schema_version": 1,
     "solution": false
    }
   },
   "source": [
    "## Part C. Chained Hash-table [time estimate: 32 minutes]\n",
    "\n",
    "### Question 1 [time estimate: 7 minutes]\n",
    "\n",
    "Using the code in the cell below, complete the missing sections of code. You should copy and paste the code in an additional cell and fill in the code there."
   ]
  },
  {
   "cell_type": "code",
   "execution_count": 3,
   "metadata": {
    "deletable": false,
    "editable": false,
    "nbgrader": {
     "checksum": "ffc1d9c145de9e5c52f96dfdc8a66fe2",
     "grade": false,
     "grade_id": "cell-9e41d88b035338f4",
     "locked": true,
     "schema_version": 1,
     "solution": false
    }
   },
   "outputs": [],
   "source": [
    "import random\n",
    "import string\n",
    "\n",
    "\n",
    "def randomword(length):\n",
    "    return ''.join(random.choice(string.ascii_lowercase) for i in range(length))\n",
    "\n",
    "\n",
    "def empty_hash_table(N):\n",
    "    return [[] for n in range(N)]\n",
    "\n",
    "\n",
    "def add_to_hash_table(hash_table, item, hash_function):\n",
    "    N = len(hash_table)\n",
    "    # YOUR CODE HERE\n",
    "    return hash_table\n",
    "\n",
    "\n",
    "def contains(hash_table, item, hash_function):\n",
    "    N = len(hash_table)\n",
    "    # YOUR CODE HERE\n",
    "    # return true if the item has already been stored in the hash_table\n",
    "\n",
    "\n",
    "def remove(hash_table, item, hash_function):\n",
    "    if not contains(hash_table, item, hash_function):\n",
    "        raise ValueError()\n",
    "    # YOUR CODE HERE\n",
    "    return hash_table\n",
    "\n",
    "\n",
    "# Hash Functions\n",
    "def hash_str1(string):\n",
    "    ans = 0\n",
    "    for chr in string:\n",
    "        ans += ord(chr)\n",
    "    return ans\n",
    "\n",
    "def hash_str2(string):\n",
    "    ans=int(ord(string[0]))\n",
    "    for ix in range(1, len(string)):\n",
    "        ans = ans ^ ord(string[ix]) \n",
    "    return int(bin(ans).split('b')[1])\n",
    "\n",
    "def hash_str3(string):\n",
    "    ans = 0\n",
    "    for chr in string:\n",
    "        ans = ans * 128 + ord(chr)\n",
    "    return ans\n",
    "\n",
    "def hash_str4(string):\n",
    "    random.seed(ord(string[0]))\n",
    "    return random.getrandbits(32)"
   ]
  },
  {
   "cell_type": "code",
   "execution_count": 4,
   "metadata": {
    "deletable": false,
    "nbgrader": {
     "checksum": "b39c1af2de8a4581d16a2d630fcaac74",
     "grade": true,
     "grade_id": "cell-1b6cc6df105c101f",
     "locked": false,
     "points": 0,
     "schema_version": 1,
     "solution": true
    }
   },
   "outputs": [],
   "source": [
    "import random\n",
    "import string\n",
    "\n",
    "\n",
    "def randomword(length):\n",
    "    return ''.join(random.choice(string.ascii_lowercase) for i in range(length))\n",
    "\n",
    "\n",
    "def empty_hash_table(N):\n",
    "    return [[] for n in range(N)]\n",
    "\n",
    "\n",
    "def add_to_hash_table(hash_table, item, hash_function):\n",
    "    #find the size of the hash_table\n",
    "    N = len(hash_table)\n",
    "    \n",
    "    #find the key\n",
    "    key = hash_function(item)\n",
    "    \n",
    "    #if the doesn't exists in the hash_table, find remainder\n",
    "    if key > N:\n",
    "        \n",
    "        key = key % N\n",
    "    \n",
    "    #appends item to the hash_table key of interest\n",
    "    hash_table[key].append(item)\n",
    "    \n",
    "    return hash_table\n",
    "\n",
    "\n",
    "def contains(hash_table, item, hash_function):\n",
    "    N = len(hash_table)\n",
    "    \n",
    "    #find the key\n",
    "    key = hash_function(item)\n",
    "    \n",
    "    #if the key is larger than the size\n",
    "    if key > N:\n",
    "        \n",
    "        key = key % N\n",
    "    \n",
    "    #loop through each item in the slot\n",
    "    for hash_item in hash_table[key]:\n",
    "\n",
    "        #if the item is in the hash\n",
    "        if hash_item == item:\n",
    "            return True\n",
    "\n",
    "def remove(hash_table, item, hash_function):\n",
    "    if not contains(hash_table, item, hash_function):\n",
    "        raise ValueError()\n",
    "    \n",
    "    key = hash_function(item)\n",
    "    \n",
    "    hash_table[key].remove(item)\n",
    "             \n",
    "    return hash_table\n",
    "\n",
    "\n",
    "# Hash Functions\n",
    "def hash_str1(string):\n",
    "    ans = 0\n",
    "    for chr in string:\n",
    "        ans += ord(chr)\n",
    "    return ans\n",
    "\n",
    "def hash_str2(string):\n",
    "    ans=int(ord(string[0]))\n",
    "    for ix in range(1, len(string)):\n",
    "        ans = ans ^ ord(string[ix]) \n",
    "    return int(bin(ans).split('b')[1])\n",
    "\n",
    "def hash_str3(string):\n",
    "    ans = 0\n",
    "    for chr in string:\n",
    "        ans = ans * 128 + ord(chr)\n",
    "    return ans\n",
    "\n",
    "def hash_str4(string):\n",
    "    random.seed(ord(string[0]))\n",
    "    return random.getrandbits(32)"
   ]
  },
  {
   "cell_type": "markdown",
   "metadata": {
    "deletable": false,
    "editable": false,
    "nbgrader": {
     "checksum": "d323c68243f6d1fe79cbf5ad01ee85ae",
     "grade": false,
     "grade_id": "cell-66fb150dd2e509a7",
     "locked": true,
     "schema_version": 1,
     "solution": false
    }
   },
   "source": [
    "### Question 2 [time estimate: 2 minutes]\n",
    "\n",
    "Using the code, create 100,000 words of 10 characters each."
   ]
  },
  {
   "cell_type": "code",
   "execution_count": 5,
   "metadata": {
    "deletable": false,
    "nbgrader": {
     "checksum": "b9d2f1faad23eecd6f3691968bb4e455",
     "grade": true,
     "grade_id": "cell-234b1e83c871ddc7",
     "locked": false,
     "points": 0,
     "schema_version": 1,
     "solution": true
    }
   },
   "outputs": [
    {
     "name": "stdout",
     "output_type": "stream",
     "text": [
      "10\n",
      "100000\n"
     ]
    }
   ],
   "source": [
    "words_lst = [randomword(10) for _ in range(100000)]\n",
    "\n",
    "print(len(words_lst[0]))\n",
    "print(len(words_lst))"
   ]
  },
  {
   "cell_type": "markdown",
   "metadata": {
    "deletable": false,
    "editable": false,
    "nbgrader": {
     "checksum": "190e7fdc00fc311f5ff32a390fff1ca4",
     "grade": false,
     "grade_id": "cell-2fbadca52cec7230",
     "locked": true,
     "schema_version": 1,
     "solution": false
    }
   },
   "source": [
    "### Question 3 [time estimate: 2 minutes]\n",
    "\n",
    "Create four chained hash-tables with 5000 slots."
   ]
  },
  {
   "cell_type": "code",
   "execution_count": 6,
   "metadata": {
    "deletable": false,
    "nbgrader": {
     "checksum": "0d1473300ae336ceb57d11687ab3ec0a",
     "grade": true,
     "grade_id": "cell-2dabefc41493ec16",
     "locked": false,
     "points": 0,
     "schema_version": 1,
     "solution": true
    }
   },
   "outputs": [],
   "source": [
    "hash_1 = empty_hash_table(5000)\n",
    "hash_2 = empty_hash_table(5000)\n",
    "hash_3 = empty_hash_table(5000)\n",
    "hash_4 = empty_hash_table(5000)"
   ]
  },
  {
   "cell_type": "markdown",
   "metadata": {
    "deletable": false,
    "editable": false,
    "nbgrader": {
     "checksum": "c3d147917ae237a6dc75eddab48dbaa6",
     "grade": false,
     "grade_id": "cell-cc2e6d00330e691e",
     "locked": true,
     "schema_version": 1,
     "solution": false
    }
   },
   "source": [
    "### Question 4 [time estimate: 2 minutes]\n",
    "\n",
    "Store all the words in each chained hash table using each of the different hash functions."
   ]
  },
  {
   "cell_type": "code",
   "execution_count": 7,
   "metadata": {
    "deletable": false,
    "nbgrader": {
     "checksum": "af209dceb17bf5f8d9fadf0808855f79",
     "grade": true,
     "grade_id": "cell-8a08ade8d45590a7",
     "locked": false,
     "points": 0,
     "schema_version": 1,
     "solution": true
    }
   },
   "outputs": [],
   "source": [
    "for word in words_lst:\n",
    "    add_to_hash_table(hash_1, word, hash_str1)\n",
    "    add_to_hash_table(hash_2, word, hash_str2)\n",
    "    add_to_hash_table(hash_3, word, hash_str3)\n",
    "    add_to_hash_table(hash_4, word, hash_str4)"
   ]
  },
  {
   "cell_type": "markdown",
   "metadata": {
    "deletable": false,
    "editable": false,
    "nbgrader": {
     "checksum": "858437d142a66b825fb0bebdb1c4d9fe",
     "grade": false,
     "grade_id": "cell-da2c8b42618fbde4",
     "locked": true,
     "schema_version": 1,
     "solution": false
    }
   },
   "source": [
    "### Question 5 [time estimate: 4 minutes]\n",
    "\n",
    "Measure the number of collisions for each hash function."
   ]
  },
  {
   "cell_type": "code",
   "execution_count": 8,
   "metadata": {
    "deletable": false,
    "nbgrader": {
     "checksum": "156f57bc1c6c1a3e10ca1804aa205099",
     "grade": true,
     "grade_id": "cell-a968f9e14a0416c4",
     "locked": false,
     "points": 0,
     "schema_version": 1,
     "solution": true
    }
   },
   "outputs": [
    {
     "name": "stdout",
     "output_type": "stream",
     "text": [
      "1689\n",
      "6381\n",
      "45\n",
      "3957\n"
     ]
    }
   ],
   "source": [
    "col1 = -float('inf')\n",
    "col2 = -float('inf')\n",
    "col3 = -float('inf')\n",
    "col4 = -float('inf')\n",
    "\n",
    "for i in range(len(hash_1)):\n",
    "    \n",
    "    if len(hash_1[i]) > col1:\n",
    "        col1 = len(hash_1[i])\n",
    "    if len(hash_2[i]) > col2:\n",
    "        col2 = len(hash_2[i])\n",
    "    if len(hash_3[i]) > col3:\n",
    "        col3 = len(hash_3[i])\n",
    "    if len(hash_4[i]) > col4:\n",
    "        col4 = len(hash_4[i])\n",
    "        \n",
    "        \n",
    "print(col1)\n",
    "print(col2)\n",
    "print(col3)\n",
    "print(col4)"
   ]
  },
  {
   "cell_type": "markdown",
   "metadata": {
    "deletable": false,
    "editable": false,
    "nbgrader": {
     "checksum": "ef47cabb10897284ca375490003e6b3d",
     "grade": false,
     "grade_id": "cell-435ba1cfb2d80447",
     "locked": true,
     "schema_version": 1,
     "solution": false
    }
   },
   "source": [
    "### Question 6 [time estimate: 5 minutes]\n",
    "\n",
    "For each of the hash functions, how many elements are in a bucket on average (if it is not empty)?\n"
   ]
  },
  {
   "cell_type": "code",
   "execution_count": 9,
   "metadata": {
    "deletable": false,
    "nbgrader": {
     "checksum": "9f77d346c6e5ffbfb92ac0707c3c1d72",
     "grade": true,
     "grade_id": "cell-b4052afa2ee7c702",
     "locked": false,
     "points": 0,
     "schema_version": 1,
     "solution": true
    }
   },
   "outputs": [
    {
     "name": "stdout",
     "output_type": "stream",
     "text": [
      "561.7977528089888\n",
      "6250.0\n",
      "20.0\n",
      "3846.153846153846\n"
     ]
    }
   ],
   "source": [
    "buck1 = 0\n",
    "buck2 = 0\n",
    "buck3 = 0\n",
    "buck4 = 0\n",
    "\n",
    "for i in range(len(hash_1)):\n",
    "    \n",
    "    if len(hash_1[i]) == 0:\n",
    "        buck1 += 1\n",
    "    if len(hash_2[i]) == 0:\n",
    "        buck2 += 1\n",
    "    if len(hash_3[i]) == 0:\n",
    "        buck3 += 1\n",
    "    if len(hash_4[i]) == 0:\n",
    "        buck4 += 1\n",
    "\n",
    "ave1 = 100000/(len(hash_1)-buck1)\n",
    "ave2 = 100000/(len(hash_2)-buck2)\n",
    "ave3 = 100000/(len(hash_3)-buck3)\n",
    "ave4 = 100000/(len(hash_4)-buck4)\n",
    "\n",
    "print(ave1)\n",
    "print(ave2)\n",
    "print(ave3)\n",
    "print(ave4)\n"
   ]
  },
  {
   "cell_type": "markdown",
   "metadata": {
    "deletable": false,
    "editable": false,
    "nbgrader": {
     "checksum": "aaeb9bd55b7a86f8bc8079cbb7f8bca4",
     "grade": false,
     "grade_id": "cell-b86aef4dd22c236c",
     "locked": true,
     "schema_version": 1,
     "solution": false
    }
   },
   "source": [
    "### Question 7 [time estimate: 5 minutes]\n",
    "\n",
    "Time how long it takes to find elements that are in each hash table.\n"
   ]
  },
  {
   "cell_type": "code",
   "execution_count": 10,
   "metadata": {
    "deletable": false,
    "nbgrader": {
     "checksum": "23927c46b8067f49ef10e9b4183f7680",
     "grade": true,
     "grade_id": "cell-0605f7dec7128414",
     "locked": false,
     "points": 0,
     "schema_version": 1,
     "solution": true
    }
   },
   "outputs": [
    {
     "name": "stdout",
     "output_type": "stream",
     "text": [
      "Average find time for hash table 1 :  3.454881191253662e-05\n",
      "Average find time for hash table 2 :  0.00015397721290588378\n",
      "Average find time for hash table 3 :  2.754039764404297e-06\n",
      "Average find time for hash table 4 :  0.0001345655608177185\n"
     ]
    }
   ],
   "source": [
    "import time\n",
    "\n",
    "start_time = time.time()\n",
    "for word in words_lst:\n",
    "    contains(hash_1, word, hash_str1)\n",
    "print(\"Average find time for hash table 1 : \", (time.time() - start_time)/100000)\n",
    "\n",
    "start_time = time.time()\n",
    "for word in words_lst:\n",
    "    contains(hash_2, word, hash_str2)\n",
    "print(\"Average find time for hash table 2 : \", (time.time() - start_time)/100000)\n",
    "\n",
    "start_time = time.time()\n",
    "for word in words_lst:\n",
    "    contains(hash_3, word, hash_str3)\n",
    "print(\"Average find time for hash table 3 : \", (time.time() - start_time)/100000)\n",
    "\n",
    "start_time = time.time()\n",
    "for word in words_lst:\n",
    "    contains(hash_4, word, hash_str4)\n",
    "print(\"Average find time for hash table 4 : \", (time.time() - start_time)/100000)"
   ]
  },
  {
   "cell_type": "markdown",
   "metadata": {
    "deletable": false,
    "editable": false,
    "nbgrader": {
     "checksum": "b051093ca9a2faf1658679380bf29033",
     "grade": false,
     "grade_id": "cell-75db2c2e62cec090",
     "locked": true,
     "schema_version": 1,
     "solution": false
    }
   },
   "source": [
    "### Question 8 [time estimate: 5 minutes]\n",
    "\n",
    "For each hash table, time how long it takes to find 10,000 elements that have not been stored."
   ]
  },
  {
   "cell_type": "code",
   "execution_count": 11,
   "metadata": {
    "deletable": false,
    "nbgrader": {
     "checksum": "99b2fa8c88000c2143cb00fac1f6aa5f",
     "grade": true,
     "grade_id": "cell-b846b45e1b98ae59",
     "locked": false,
     "points": 0,
     "schema_version": 1,
     "solution": true
    }
   },
   "outputs": [
    {
     "name": "stdout",
     "output_type": "stream",
     "text": [
      "Average find time for hash table 1 :  1.0781960487365722e-05\n",
      "Average find time for hash table 2 :  4.5143983364105224e-05\n",
      "Average find time for hash table 3 :  4.877281188964844e-07\n",
      "Average find time for hash table 4 :  3.112928152084351e-05\n"
     ]
    }
   ],
   "source": [
    "import time\n",
    "\n",
    "na_words = [randomword(10) for _ in range(10000)]\n",
    "\n",
    "start_time = time.time()\n",
    "for word in na_words:\n",
    "    contains(hash_1, word, hash_str1)\n",
    "print(\"Average find time for hash table 1 : \", (time.time() - start_time)/100000)\n",
    "\n",
    "start_time = time.time()\n",
    "for word in na_words:\n",
    "    contains(hash_2, word, hash_str2)\n",
    "print(\"Average find time for hash table 2 : \", (time.time() - start_time)/100000)\n",
    "\n",
    "start_time = time.time()\n",
    "for word in na_words:\n",
    "    contains(hash_3, word, hash_str3)\n",
    "print(\"Average find time for hash table 3 : \", (time.time() - start_time)/100000)\n",
    "\n",
    "start_time = time.time()\n",
    "for word in na_words:\n",
    "    contains(hash_4, word, hash_str4)\n",
    "print(\"Average find time for hash table 4 : \", (time.time() - start_time)/100000)"
   ]
  },
  {
   "cell_type": "code",
   "execution_count": null,
   "metadata": {},
   "outputs": [],
   "source": []
  }
 ],
 "metadata": {
  "kernelspec": {
   "display_name": "Python 3",
   "language": "python",
   "name": "python3"
  },
  "language_info": {
   "codemirror_mode": {
    "name": "ipython",
    "version": 3
   },
   "file_extension": ".py",
   "mimetype": "text/x-python",
   "name": "python",
   "nbconvert_exporter": "python",
   "pygments_lexer": "ipython3",
   "version": "3.6.5"
  }
 },
 "nbformat": 4,
 "nbformat_minor": 2
}
