{
 "cells": [
  {
   "cell_type": "markdown",
   "metadata": {},
   "source": [
    "Before you turn this problem in, make sure everything runs as expected. First, **restart the kernel** (in the menubar, select Kernel$\\rightarrow$Restart) and then **run all cells** (in the menubar, select Cell$\\rightarrow$Run All).\n",
    "\n",
    "Note that this Pre-class Work is estimated to take **35 minutes**.\n",
    "\n",
    "Make sure you fill in any place that says `YOUR CODE HERE` or \"YOUR ANSWER HERE\", as well as your name and collaborators below:"
   ]
  },
  {
   "cell_type": "code",
   "execution_count": 1,
   "metadata": {},
   "outputs": [],
   "source": [
    "NAME = \"Simon Andren\"\n",
    "COLLABORATORS = \"\""
   ]
  },
  {
   "cell_type": "markdown",
   "metadata": {},
   "source": [
    "---"
   ]
  },
  {
   "cell_type": "markdown",
   "metadata": {
    "deletable": false,
    "editable": false,
    "nbgrader": {
     "checksum": "21540c1c5e00b9c4f14c9766c63b92ee",
     "grade": false,
     "grade_id": "cell-2258ae9711c0b029",
     "locked": true,
     "schema_version": 1,
     "solution": false
    }
   },
   "source": [
    "# CS110 Pre-class Work - The rod-cutting problem\n",
    "\n",
    "The pre-class work for this session will focus on the rod cutting problem. Recall that the rod cutting problem takes as an input the length $n$ of a rodand, a table of prices $p_i$ for $i = 1,2,... n$, and one needs to determine the maximum revenue $r$ obtainable by cutting up the rod and selling the pieces. \n",
    "\n",
    "## Part A. \n",
    "\n",
    "You will implement in Python two solutions to the rod cutting problem, namely:\n",
    "\n",
    "## Question 1 [time estimate: 5 minutes] \n",
    "A recursive top-down solution to the rod cutting problem. Please complete the cut_rod function below:\n"
   ]
  },
  {
   "cell_type": "code",
   "execution_count": 2,
   "metadata": {
    "deletable": false,
    "nbgrader": {
     "checksum": "7237c900fdd06ab972ae58cfd3037231",
     "grade": false,
     "grade_id": "cell-d85ce9860c9ea1e5",
     "locked": false,
     "schema_version": 1,
     "solution": true
    }
   },
   "outputs": [],
   "source": [
    "def cut_rod(p,n):\n",
    "    \"\"\"\n",
    "    A recursive top-down solution to the rod cutting problem as described in \n",
    "    Cormen et. al. (pp 363) This calculates the maximum revenue that could be \n",
    "    earned by cutting up a rod of length n.\n",
    "    \n",
    "    Parameters\n",
    "    ----------\n",
    "    p : list of floats\n",
    "        The prices of rods of different lengths. p[i] gives the dollars\n",
    "        of revenue the company earns selling a rod of length i+1.\n",
    "    n : int\n",
    "        Length of the rod\n",
    "    \n",
    "    Returns\n",
    "    -------\n",
    "    q : float\n",
    "        The optimal revenue\n",
    "        \n",
    "    \"\"\"\n",
    "    if n == 0:\n",
    "        return 0\n",
    "    q = -float(\"inf\")\n",
    "    for i in range(n): \n",
    "        q = max(q, p[i] + cut_rod(p,n-1-i))\n",
    "    \n",
    "    return q\n"
   ]
  },
  {
   "cell_type": "code",
   "execution_count": 3,
   "metadata": {
    "deletable": false,
    "editable": false,
    "nbgrader": {
     "checksum": "10d4aaa19c12d9b56addd9cca9b13975",
     "grade": true,
     "grade_id": "cell-0288a4047be5088d",
     "locked": true,
     "points": 1,
     "schema_version": 1,
     "solution": false
    }
   },
   "outputs": [],
   "source": [
    "# price list from textbook\n",
    "p = [1,5,8,9,10,17,17,20,24,30] #p[i] gives the price of length i+1\n",
    "\n",
    "#results from textbook\n",
    "r = [0,1,5,8,10,13,17,18,22,25,30]\n",
    "for i in range(len(r)):\n",
    "    assert(cut_rod(p,i)==r[i])"
   ]
  },
  {
   "cell_type": "markdown",
   "metadata": {
    "deletable": false,
    "editable": false,
    "nbgrader": {
     "checksum": "66f4b595bbff340b7c3114c913a755aa",
     "grade": false,
     "grade_id": "cell-cb7764a3a73bcdb7",
     "locked": true,
     "schema_version": 1,
     "solution": false
    }
   },
   "source": [
    "## Question 2 [time estimate: 10 minutes]\n",
    "\n",
    "An optimal rod cutting solution using dynamic programming (see figure [here](https://drive.google.com/open?id=1nu9gETKX4KJCHZDi17fZLQtkDVig81Zk) for inspiration). Please complete the following two functions: \n"
   ]
  },
  {
   "cell_type": "code",
   "execution_count": 4,
   "metadata": {
    "deletable": false,
    "nbgrader": {
     "checksum": "6684945acab69b9f7ed6c202452bc769",
     "grade": false,
     "grade_id": "cell-eb49e8516ebf80aa",
     "locked": false,
     "schema_version": 1,
     "solution": true
    }
   },
   "outputs": [],
   "source": [
    "def extended_bottom_up_cut_rod(p,n):\n",
    "    \"\"\"\n",
    "    Implements a bottom-up dynamic programming approach to the rod cutting problem.\n",
    "    Here, \"extended\" means the function is geared in a way amenable to reconstructing\n",
    "    an optimal solution, on top of the returned optimal value. See Cormen et al.,\n",
    "    p. 269 for the implementation details.\n",
    "    \n",
    "    Parameters\n",
    "    ----------\n",
    "    p : list of floats\n",
    "        The prices of rods of different lengths. p[i] gives the dollars\n",
    "        of revenue the company earns selling a rod of length i+1.\n",
    "    n : int\n",
    "        Length of the rod\n",
    "    \n",
    "    Returns\n",
    "    -------\n",
    "    r : list of floats\n",
    "        The maximum revenues. r[i] gives the maximum revenue for a rod\n",
    "        of length i. As such:\n",
    "        \n",
    "            >>> r[0] = 0\n",
    "            >>> len(r) == n + 1\n",
    "            \n",
    "    s : list of ints\n",
    "        The optimal sizes of the first piece to cut off. Also make sure \n",
    "        that:\n",
    "            \n",
    "            >>> s[0] = 0\n",
    "            >>> len(s) == n + 1\n",
    "            \n",
    "    \"\"\"\n",
    "    r = [0 for i in range(n+1)]\n",
    "    s = [0 for i in range(n+1)]\n",
    "    \n",
    "    for j in range(1,n+1):\n",
    "        q = -float(\"inf\")\n",
    "        for i in range(1,j+1):\n",
    "            if q < p[i-1] + r[j-i]:\n",
    "                q = p[i-1] + r[j-i]\n",
    "                s[j] = i\n",
    "        r[j] = q\n",
    "    return r , s\n",
    "    #raise NotImplementedError()\n",
    "    \n"
   ]
  },
  {
   "cell_type": "code",
   "execution_count": 5,
   "metadata": {
    "deletable": false,
    "nbgrader": {
     "checksum": "0721b1c26ef2b06505e7329f286ba386",
     "grade": false,
     "grade_id": "cell-1d52c9519ccb3502",
     "locked": false,
     "schema_version": 1,
     "solution": true
    }
   },
   "outputs": [
    {
     "name": "stdout",
     "output_type": "stream",
     "text": [
      "[1, 2, 3, 2, 2]\n"
     ]
    }
   ],
   "source": [
    "def print_cut_rod_solution(p,n):\n",
    "    \"\"\"\n",
    "    Gives a solution to the rod cutting problem of size n. \n",
    "    \n",
    "    Parameters\n",
    "    ----------\n",
    "    p : list of floats\n",
    "        The prices of rods of different lengths. p[i] gives the revenue \n",
    "        (in USD, for example) the company earns selling a rod of length i+1\n",
    "    n : int\n",
    "        Length of the rod\n",
    "    \n",
    "    Returns\n",
    "    -------\n",
    "    sol : a list of ints\n",
    "        Indicates how to cut the rod. Cutting the rod with the lengths\n",
    "        given in sol gives the optimal revenue.\n",
    "        \n",
    "            >>> print_cut_rod_solution(p,0) == []\n",
    "            \n",
    "    \"\"\"\n",
    "    r, s = extended_bottom_up_cut_rod(p,n)\n",
    "    \n",
    "    if n == 0:\n",
    "        print([])\n",
    "    else:\n",
    "        print(s[1:])\n",
    "p = [1,5,8,9,10,17,17,20,24,30]\n",
    "print_cut_rod_solution(p, 5)"
   ]
  },
  {
   "cell_type": "code",
   "execution_count": 6,
   "metadata": {
    "deletable": false,
    "editable": false,
    "nbgrader": {
     "checksum": "78b3a62a448ff29e2050fdadd39dc70f",
     "grade": true,
     "grade_id": "cell-6575aa2769e0eab1",
     "locked": true,
     "points": 1,
     "schema_version": 1,
     "solution": false
    }
   },
   "outputs": [],
   "source": [
    "# price list from textbook\n",
    "p = [1,5,8,9,10,17,17,20,24,30] #p[i] gives the price of length i+1\n",
    "# Result of R and S from textbook:\n",
    "R = [0,1,5,8,10,13,17,18,22,25,30]\n",
    "S = [0,1,2,3,2,2,6,1,2,3,10]\n",
    "# Test:\n",
    "r, s = extended_bottom_up_cut_rod(p,10)\n",
    "assert(r==R)\n",
    "assert(s==S)"
   ]
  },
  {
   "cell_type": "markdown",
   "metadata": {
    "deletable": false,
    "editable": false,
    "nbgrader": {
     "checksum": "0937ad8ecbd17b5eca4db79a21d117b8",
     "grade": false,
     "grade_id": "cell-0832a56453a9026d",
     "locked": true,
     "schema_version": 1,
     "solution": false
    }
   },
   "source": [
    "## Part B - Experiments\n",
    "\n",
    "## Question 1 [time estimate: 1 minute]\n",
    "\n",
    "Use the function below to generate a list of prices of length n=20 and assign that list to a new variable, `P`. You MUST use this list for questions 2 and 3 below.\n"
   ]
  },
  {
   "cell_type": "code",
   "execution_count": 7,
   "metadata": {},
   "outputs": [],
   "source": [
    "import numpy as np\n",
    "def generate_price_list(n):\n",
    "    \"\"\"\n",
    "    Generates a price list of length n\n",
    "    \n",
    "    Parameters\n",
    "    ----------\n",
    "    n : int\n",
    "        Length of the list, must be positive\n",
    "    \n",
    "    Returns\n",
    "    -------\n",
    "    p : list\n",
    "        The ordered price list for each rod cut\n",
    "        \n",
    "    \"\"\"\n",
    "    p = [1]\n",
    "    for i in range(1,n):\n",
    "        np.random.seed(0)\n",
    "        p.append(np.random.randint(p[i-1]+1, i*3+1))\n",
    "    return p\n"
   ]
  },
  {
   "cell_type": "markdown",
   "metadata": {
    "deletable": false,
    "editable": false,
    "nbgrader": {
     "checksum": "deeb7b0872934debc2d63c1647b5ac06",
     "grade": false,
     "grade_id": "cell-c7fdedff7b334b75",
     "locked": true,
     "schema_version": 1,
     "solution": false
    }
   },
   "source": [
    "## Question 2 [time estimate: 5 minutes]\n",
    "\n",
    "Time (using the time library) the implementation of `cut_rod` for different rod lengths for values of up to $n=20.$ Present your results in a plot. \n"
   ]
  },
  {
   "cell_type": "code",
   "execution_count": 10,
   "metadata": {
    "deletable": false,
    "nbgrader": {
     "checksum": "99c151824efdb32faba7a3f771d1b9f6",
     "grade": true,
     "grade_id": "cell-e094e913d8bc139f",
     "locked": false,
     "points": 0,
     "schema_version": 1,
     "solution": true
    }
   },
   "outputs": [
    {
     "data": {
      "image/png": "[encoded data removed]",
      "text/plain": [
       "<Figure size 432x288 with 1 Axes>"
      ]
     },
     "metadata": {},
     "output_type": "display_data"
    }
   ],
   "source": [
    "import time\n",
    "import matplotlib.pyplot as plt\n",
    "\n",
    "t_rec = []\n",
    "rod_len_lst = []\n",
    "\n",
    "for rod_len in range(1, 21):\n",
    "    p = generate_price_list(rod_len)\n",
    "    st_time = time.time()\n",
    "    cut_rod(p, rod_len)\n",
    "    t_rec.append(time.time()-st_time)\n",
    "    rod_len_lst.append(rod_len)\n",
    "    \n",
    "plt.plot(rod_len_lst, t_rec)\n",
    "\n",
    "plt.show()"
   ]
  },
  {
   "cell_type": "markdown",
   "metadata": {
    "deletable": false,
    "editable": false,
    "nbgrader": {
     "checksum": "b8fa06392ba05e21f83f34e1bd84c0e4",
     "grade": false,
     "grade_id": "cell-8076e5401f46000c",
     "locked": true,
     "schema_version": 1,
     "solution": false
    }
   },
   "source": [
    "## Question 3 [time estimate: 2 minutes]\n",
    "\n",
    "Time (using the time library) the implementation of `extended_bottom_up_cut_rod` for different rod lengths for values of up to $n=20$. Add the curve corresponding to this algorithm to the previous plot."
   ]
  },
  {
   "cell_type": "code",
   "execution_count": 9,
   "metadata": {
    "deletable": false,
    "nbgrader": {
     "checksum": "a06be2cc09d0a0b5fa89b8d110ec18a7",
     "grade": true,
     "grade_id": "cell-210aa3d5a2743bd8",
     "locked": false,
     "points": 0,
     "schema_version": 1,
     "solution": true
    }
   },
   "outputs": [
    {
     "data": {
      "image/png": "[encoded data removed]",
      "text/plain": [
       "<Figure size 432x288 with 1 Axes>"
      ]
     },
     "metadata": {},
     "output_type": "display_data"
    }
   ],
   "source": [
    "import time\n",
    "import matplotlib.pyplot as plt\n",
    "\n",
    "t_rec = []\n",
    "rod_len_lst = []\n",
    "\n",
    "for rod_len in range(1, 71):\n",
    "    p = generate_price_list(rod_len)\n",
    "    ave_t = []\n",
    "    for _ in range(1000):\n",
    "        st_time = time.time()\n",
    "        extended_bottom_up_cut_rod(p, rod_len)\n",
    "        ave_t.append(time.time()-st_time)\n",
    "    t_rec.append(sum(ave_t)/len(ave_t))\n",
    "    rod_len_lst.append(rod_len)\n",
    "    \n",
    "plt.plot(rod_len_lst, t_rec)\n",
    "\n",
    "plt.show()"
   ]
  },
  {
   "cell_type": "markdown",
   "metadata": {
    "deletable": false,
    "editable": false,
    "nbgrader": {
     "checksum": "1c820ccd68543bac236215ff32626ae1",
     "grade": false,
     "grade_id": "cell-5aa5079c4bcac376",
     "locked": true,
     "schema_version": 1,
     "solution": false
    }
   },
   "source": [
    "## Question 4 [time estimate: 2 minutes]\n",
    "\n",
    "Contrast both curves. What can you conclude?"
   ]
  },
  {
   "cell_type": "markdown",
   "metadata": {
    "deletable": false,
    "nbgrader": {
     "checksum": "921656651f11cce29dfe7bf75650d129",
     "grade": true,
     "grade_id": "cell-0e62cc5b19840488",
     "locked": false,
     "points": 0,
     "schema_version": 1,
     "solution": true
    }
   },
   "source": [
    "From the absolute values, we can see that the dynamic programming solution is soooo much faster when the size of length of the rod gets above 15. The scaling behavior is also drastically different with the dynamic appearng to be scaling with n^2 (but in a slow manner) while the recursive solution scales exponentionally. "
   ]
  },
  {
   "cell_type": "markdown",
   "metadata": {
    "deletable": false,
    "editable": false,
    "nbgrader": {
     "checksum": "a69d913354531fef3bd30538d2f77e96",
     "grade": false,
     "grade_id": "cell-15e017ea29c2ae87",
     "locked": true,
     "schema_version": 1,
     "solution": false
    }
   },
   "source": [
    "## Part C - After completing your experiments above, answer the following questions:\n",
    "\n",
    "## Question 1 [time estimate: 5 minutes]\n",
    "Estimate how big $n$ has to be before the non-dynamic-programming version will take a million years to finish. Call this value N."
   ]
  },
  {
   "cell_type": "markdown",
   "metadata": {
    "deletable": false,
    "nbgrader": {
     "checksum": "ee93061dcb5a4ab6fba26904d7230956",
     "grade": true,
     "grade_id": "cell-a11f4fd6a03e2cf5",
     "locked": false,
     "points": 0,
     "schema_version": 1,
     "solution": true
    }
   },
   "source": [
    "As from the reading and above graph, we can see that the recursive function scales exponentially and the equation for number of subproblems to solve is $2^n$. If say that the computer can carry out $1*10^9$ operations per second and each subproblem takes only operation (1 billion) that means that is can carry out $1*10^9*(60*60*24*365*1000000) = 3.15*10^22$ operations per million year. $2^70 approx= 3.15*10^22$. This means that after n=70, the runtime would be million years"
   ]
  },
  {
   "cell_type": "markdown",
   "metadata": {
    "deletable": false,
    "editable": false,
    "nbgrader": {
     "checksum": "2a89a2ec215e318b3c6f14141437f812",
     "grade": false,
     "grade_id": "cell-53a067a7b6a21694",
     "locked": true,
     "schema_version": 1,
     "solution": false
    }
   },
   "source": [
    "## Question 2 [time estimate: 5 minutes]\n",
    "Estimate (or time) how long it takes to evaluate `extended_bottom_up_cut_rod(p,N)`, where `N` is the value you got from the previous question. "
   ]
  },
  {
   "cell_type": "markdown",
   "metadata": {
    "deletable": false,
    "nbgrader": {
     "checksum": "45ccf902eb5847cbae75c4394b6d7cb7",
     "grade": true,
     "grade_id": "cell-89ed2dd6f3310c96",
     "locked": false,
     "points": 0,
     "schema_version": 1,
     "solution": true
    }
   },
   "source": [
    "This would be around 0.0003 second (Estimated using an experimental approach)! Which is a lot faster that 1million years"
   ]
  },
  {
   "cell_type": "markdown",
   "metadata": {
    "deletable": false,
    "editable": false,
    "nbgrader": {
     "checksum": "f273d3c9906b4a2f9069dec4ec6d9e98",
     "grade": false,
     "grade_id": "cell-570ff6554dfb5b4f",
     "locked": true,
     "schema_version": 1,
     "solution": false
    }
   },
   "source": [
    "## [Optional]  Question 3 [time estimate: 5 minutes]\n",
    "Do you notice anything peculiar about the solution for large n?"
   ]
  },
  {
   "cell_type": "markdown",
   "metadata": {
    "deletable": false,
    "nbgrader": {
     "checksum": "15a99ef0f160ca439cb8be6e2c4f2384",
     "grade": true,
     "grade_id": "cell-fd4c9c91a42f178a",
     "locked": false,
     "points": 0,
     "schema_version": 1,
     "solution": true
    }
   },
   "source": [
    "It fluctuates a bit! But nothing else? Or it's not very high and slowly scales with n^2??"
   ]
  }
 ],
 "metadata": {
  "kernelspec": {
   "display_name": "Python 3",
   "language": "python",
   "name": "python3"
  },
  "language_info": {
   "codemirror_mode": {
    "name": "ipython",
    "version": 3
   },
   "file_extension": ".py",
   "mimetype": "text/x-python",
   "name": "python",
   "nbconvert_exporter": "python",
   "pygments_lexer": "ipython3",
   "version": "3.6.5"
  }
 },
 "nbformat": 4,
 "nbformat_minor": 2
}
