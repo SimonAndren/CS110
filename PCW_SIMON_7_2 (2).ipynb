{
 "cells": [
  {
   "cell_type": "markdown",
   "metadata": {},
   "source": [
    "Before you turn this problem in, make sure everything runs as expected. First, **restart the kernel** (in the menubar, select Kernel$\\rightarrow$Restart) and then **run all cells** (in the menubar, select Cell$\\rightarrow$Run All).\n",
    "\n",
    "Note that this Pre-class Work is estimated to take **44 minutes**.\n",
    "\n",
    "Make sure you fill in any place that says `YOUR CODE HERE` or \"YOUR ANSWER HERE\", as well as your name and collaborators below:"
   ]
  },
  {
   "cell_type": "code",
   "execution_count": 1,
   "metadata": {},
   "outputs": [],
   "source": [
    "NAME = \"Simon Andren\"\n",
    "COLLABORATORS = \"\""
   ]
  },
  {
   "cell_type": "markdown",
   "metadata": {},
   "source": [
    "---"
   ]
  },
  {
   "cell_type": "markdown",
   "metadata": {
    "deletable": false,
    "nbgrader": {
     "checksum": "a2025a945eae66ffac9bc4836ac511db",
     "grade": false,
     "grade_id": "cell-f534ec91df9dff5f",
     "locked": true,
     "schema_version": 1,
     "solution": false
    }
   },
   "source": [
    "# CS110 Pre-class Work - Randomized quicksort\n",
    "\n",
    "## Part A. Median-of-3 partitioning quicksort \n",
    "\n",
    "## Question 1 [time estimate: 10 minutes]\n",
    "\n",
    "Read through the following Python code. What does each function (i.e., median, qsort, randomized_qsort, test_qsort) do? Comment in details each function. \n"
   ]
  },
  {
   "cell_type": "code",
   "execution_count": 2,
   "metadata": {
    "pixiedust": {
     "displayParams": {}
    }
   },
   "outputs": [
    {
     "name": "stdout",
     "output_type": "stream",
     "text": [
      "0.0737529759935569\n"
     ]
    }
   ],
   "source": [
    "import timeit\n",
    "import random\n",
    "\n",
    "eps = 1e-16\n",
    "N = 10000\n",
    "locations = [0.0, 0.5, 1.0 - eps]\n",
    "\n",
    "\n",
    "def median(x1, x2, x3):\n",
    "    if (x1 < x2 < x3) or (x3 < x2 < x1):\n",
    "        return x2\n",
    "    elif (x1 < x3 < x2) or (x2 < x3 < x1):\n",
    "        return x3\n",
    "    else:\n",
    "        return x1\n",
    "\n",
    "def qsort(lst):\n",
    "    indices = [(0, len(lst))]\n",
    "\n",
    "    while indices:\n",
    "        (frm, to) = indices.pop()\n",
    "        if frm == to:\n",
    "            continue\n",
    "\n",
    "        # Find the partition:\n",
    "        N = to - frm\n",
    "        inds = [frm + int(N * n) for n in locations]\n",
    "        values = [lst[ind] for ind in inds]\n",
    "        partition = median(*values)\n",
    "\n",
    "        # Split into lists:\n",
    "        lower = [a for a in lst[frm:to] if a < partition]\n",
    "        upper = [a for a in lst[frm:to] if a > partition]\n",
    "        counts = sum([1 for a in lst[frm:to] if a == partition])\n",
    "\n",
    "        ind1 = frm + len(lower)\n",
    "        ind2 = ind1 + counts\n",
    "\n",
    "        # Push back into correct place:\n",
    "        lst[frm:ind1] = lower\n",
    "        lst[ind1:ind2] = [partition] * counts\n",
    "        lst[ind2:to] = upper\n",
    "\n",
    "        # Enqueue other locations\n",
    "        indices.append((frm, ind1))\n",
    "        indices.append((ind2, to))\n",
    "    return lst\n",
    "\n",
    "\n",
    "def randomized_quicksort():\n",
    "    lst = [i for i in range(N)]\n",
    "    random.shuffle(lst)\n",
    "    return qsort(lst)\n",
    "\n",
    "\n",
    "def test_quicksort():\n",
    "    lst = randomized_quicksort()\n",
    "    assert (lst == [i for i in range(N)])\n",
    "\n",
    "\n",
    "# Is our algorithm correct\n",
    "test_quicksort()\n",
    "\n",
    "# How fast is our algorithm\n",
    "print(timeit.timeit(randomized_quicksort, number=1))"
   ]
  },
  {
   "cell_type": "markdown",
   "metadata": {
    "deletable": false,
    "editable": false,
    "nbgrader": {
     "checksum": "61fb11bff1434e4b7276c7443b0267c6",
     "grade": false,
     "grade_id": "cell-a2b2429aa4e81403",
     "locked": true,
     "schema_version": 1,
     "solution": false
    }
   },
   "source": [
    "## Question 2 [time estimate: 3 minutes]\n",
    "\n",
    "What are the main differences between the `randomized_quicksort` in the code and $RANDOMIZED-QUICKSORT$ in Cormen et al., besides that the partition of `randomized_quicksort` uses a median of 3 as a pivot?"
   ]
  },
  {
   "cell_type": "markdown",
   "metadata": {
    "deletable": false,
    "nbgrader": {
     "checksum": "8915b75d94bc194ba0f4e52e475063b4",
     "grade": true,
     "grade_id": "cell-4a3cd727ccac7404",
     "locked": false,
     "points": 0,
     "schema_version": 1,
     "solution": true
    }
   },
   "source": [
    "In the quicksort algorithm provided by Cormen, the quicksort function was called recursivly on each subarray until it was of size 1 or 0. This creates a lot of space complexity which is a problem as python has a maximum recuursive calls that it can handles. \n",
    "\n",
    "In the provided code, this is not the case as the function is called once but includes an iterative process."
   ]
  },
  {
   "cell_type": "markdown",
   "metadata": {
    "deletable": false,
    "editable": false,
    "nbgrader": {
     "checksum": "5853f10cab01212736d0e92ce408fa97",
     "grade": false,
     "grade_id": "cell-49bff57d4018e133",
     "locked": true,
     "schema_version": 1,
     "solution": false
    }
   },
   "source": [
    "## Question 3 [time estimate: 10 minutes]\n",
    "\n",
    "What is the time complexity of this `randomized_qsort`? Time the algorithm on lists of various lengths, each list being a list of the first $n$ consecutive positive integers. Produce a graph with list lengths on the x axis and running time on the y axis. As always, don’t forget to time the algorithm several times for each list’s length and then average the results. "
   ]
  },
  {
   "cell_type": "code",
   "execution_count": 9,
   "metadata": {
    "deletable": false,
    "nbgrader": {
     "checksum": "a321a7fcecb9c9cce252ea2c6030d4ce",
     "grade": true,
     "grade_id": "cell-e0e1dac71ac7feb6",
     "locked": false,
     "points": 0,
     "schema_version": 1,
     "solution": true
    }
   },
   "outputs": [
    {
     "data": {
      "image/png": "[encoded data removed]",
      "text/plain": [
       "<Figure size 432x288 with 1 Axes>"
      ]
     },
     "metadata": {},
     "output_type": "display_data"
    }
   ],
   "source": [
    "import time\n",
    "import random\n",
    "import matplotlib.pyplot as plt\n",
    "\n",
    "eps = 1e-16\n",
    "locations = [0.0, 0.5, 1.0 - eps]\n",
    "\n",
    "\n",
    "def median(x1, x2, x3):\n",
    "    \"\"\"Finds the median of unique values\"\"\"\n",
    "    if (x1 < x2 < x3) or (x3 < x2 < x1): #Checks if x2 is the second larest/second smallest value\n",
    "        return x2\n",
    "    elif (x1 < x3 < x2) or (x2 < x3 < x1):\n",
    "        return x3 #Checks for x3\n",
    "    else: #if not x3 or x2, it's x1 that is the median\n",
    "        return x1\n",
    "\n",
    "def qsort(lst, N):\n",
    "    indices = [(0, len(lst))] #Creates a list holding tuples of the first and last index of a subarray\n",
    "\n",
    "    while indices: #While there are unsorted subarrays \n",
    "        (frm, to) = indices.pop() #last tuple with the indexes to sort between\n",
    "        if frm == to: #if the subarray list is just 1 element\n",
    "            continue\n",
    "\n",
    "        # Find the partition:\n",
    "        N = to - frm #Finds the number of elements in the list\n",
    "        inds = [frm + int(N * n) for n in locations] #finds the index for the first, middle, and last element in the list\n",
    "        values = [lst[ind] for ind in inds] #finds the values for the indexes \n",
    "        partition = median(*values) #Finds the median value of the three choosen values \n",
    "\n",
    "        # Split into lists:\n",
    "        lower = [a for a in lst[frm:to] if a < partition] #Finds all the values smaller than the partition value\n",
    "        upper = [a for a in lst[frm:to] if a > partition] #Finds all the values bigger than the partition value\n",
    "        counts = sum([1 for a in lst[frm:to] if a == partition]) #Finds the many times the partition value appeats\n",
    "\n",
    "        ind1 = frm + len(lower) #finds the index for the last element in the lower subarray \n",
    "        ind2 = ind1 + counts #Finds the index for the first element in the upper subarray\n",
    "\n",
    "        # Push back into correct place:\n",
    "        lst[frm:ind1] = lower #Inserts the lower subarray\n",
    "        lst[ind1:ind2] = [partition] * counts #inserts all the dublicated partition values\n",
    "        lst[ind2:to] = upper #inserts the upper subarray\n",
    "\n",
    "        # Enqueue other locations\n",
    "        indices.append((frm, ind1)) #appends the indexes for the less subarray\n",
    "        indices.append((ind2, to)) #appends the indexes for the greater subarray\n",
    "    return lst\n",
    "\n",
    "\n",
    "def randomized_quicksort(N):\n",
    "    \"\"\"This function creates a list of N distincs integers in random order\n",
    "    , and then sorts it usingg quick sort\n",
    "    \"\"\"\n",
    "    lst = [i for i in range(N)] #list of N distincs integers\n",
    "    random.shuffle(lst) #shuffles the list\n",
    "    return qsort(lst, N) #sorts is using quicksort\n",
    "\n",
    "def plot_run_time():\n",
    "    time_list = []\n",
    "    N_list = []\n",
    "    for a in range(1,201, 10):\n",
    "       \n",
    "        str_time = time.time()\n",
    "        N = 100*a\n",
    "        \n",
    "        randomized_quicksort(N)\n",
    "        \n",
    "        time_list.append(time.time()-str_time)\n",
    "        N_list.append(N)\n",
    "    \n",
    "    plt.plot(N_list, time_list)\n",
    "    plt.xlabel('input size')\n",
    "    plt.ylabel('runtime (s)')\n",
    "    plt.title('Runtime for random quicksort')\n",
    "    plt.show()\n",
    "\n",
    "plot_run_time()\n",
    "    \n",
    "\n"
   ]
  },
  {
   "cell_type": "markdown",
   "metadata": {},
   "source": [
    "I would have guessed that the time_complexity would be nLog(n) but it appears to more close to just n since the graph\n",
    "is very linear"
   ]
  },
  {
   "cell_type": "markdown",
   "metadata": {
    "deletable": false,
    "editable": false,
    "nbgrader": {
     "checksum": "b8751f930d9dc208113425646ea7fea8",
     "grade": false,
     "grade_id": "cell-1e8309c07c2f2908",
     "locked": true,
     "schema_version": 1,
     "solution": false
    }
   },
   "source": [
    "## Question 4.\n",
    "\n",
    "### Question 4a [time estimate: 7 minutes]\n",
    "\n",
    "Change the `qsort()` function in a way that you **don’t** separate the items that are equal to the partition. \n"
   ]
  },
  {
   "cell_type": "code",
   "execution_count": 4,
   "metadata": {
    "deletable": false,
    "nbgrader": {
     "checksum": "797888f53fa36bcf0f9d891c4819d8e9",
     "grade": false,
     "grade_id": "cell-a9d1f063c0340b14",
     "locked": false,
     "schema_version": 1,
     "solution": true
    }
   },
   "outputs": [
    {
     "name": "stdout",
     "output_type": "stream",
     "text": [
      "[2, 1, 1, 5]\n",
      "[2, 1, 4, 5]\n",
      "[2, 1, 4, 5]\n",
      "[2, 1, 4, 5]\n",
      "[2, 1, 4, 5]\n",
      "[2, 1, 4, 5]\n",
      "[1, 1, 4, 5]\n",
      "[1, 2, 4, 5]\n",
      "[1, 2, 5]\n",
      "[1, 2, 5]\n",
      "[1, 2, 5]\n",
      "[1, 5]\n"
     ]
    },
    {
     "data": {
      "text/plain": [
       "[1, 5]"
      ]
     },
     "execution_count": 4,
     "metadata": {},
     "output_type": "execute_result"
    }
   ],
   "source": [
    "def qsort_without_part(lst, N):\n",
    "    indices = [(0, len(lst))] #Creates a list holding tuples of the first and last index of a subarray\n",
    "\n",
    "    while indices: #While there are unsorted subarrays \n",
    "        (frm, to) = indices.pop() #last tuple with the indexes to sort between\n",
    "        if frm == to: #if the subarray list is just 1 element\n",
    "            continue\n",
    "\n",
    "        # Find the partition:\n",
    "        N = to - frm #Finds the number of elements in the list\n",
    "        inds = [frm + int(N * n) for n in locations] #finds the index for the first, middle, and last element in the list\n",
    "        values = [lst[ind] for ind in inds] #finds the values for the indexes \n",
    "        partition = median(*values) #Finds the median value of the three choosen values \n",
    "\n",
    "        # Split into lists:\n",
    "        lower = [a for a in lst[frm:to] if a < partition] #Finds all the values smaller than the partition value\n",
    "        upper = [a for a in lst[frm:to] if a > partition] #Finds all the values bigger than the partition value\n",
    "\n",
    "        ind1 = frm + len(lower) #finds the index for the last element in the lower subarray \n",
    "\n",
    "        # Push back into correct place:\n",
    "        lst[frm:ind1] = lower #Inserts the lower subarray\n",
    "        print(lst)\n",
    "        lst[ind1:ind1+1] = [partition]\n",
    "        print(lst)\n",
    "        lst[ind1+1:to+1] = upper #inserts the upper subarray\n",
    "        print(lst)\n",
    "\n",
    "        # Enqueue other locations\n",
    "        indices.append((frm, ind1)) #appends the indexes for the less subarray\n",
    "        indices.append((ind1+1, to)) #appends the indexes for the morer subarray\n",
    "    return lst\n",
    "\n",
    "qsort_without_part([4,2,1,5],4)\n",
    "\n",
    "\n",
    "#I could not figure out how do this part. I don't understand why it removes the median from the list"
   ]
  },
  {
   "cell_type": "code",
   "execution_count": 5,
   "metadata": {
    "deletable": false,
    "editable": false,
    "nbgrader": {
     "checksum": "ce755b787f1b82629d627d2f8bea66a5",
     "grade": true,
     "grade_id": "cell-2c0cbd296d612f85",
     "locked": true,
     "points": 1,
     "schema_version": 1,
     "solution": false
    }
   },
   "outputs": [
    {
     "ename": "TypeError",
     "evalue": "qsort() missing 1 required positional argument: 'N'",
     "output_type": "error",
     "traceback": [
      "\u001b[0;31m---------------------------------------------------------------------------\u001b[0m",
      "\u001b[0;31mTypeError\u001b[0m                                 Traceback (most recent call last)",
      "\u001b[0;32m<ipython-input-5-0ccbde90f5ed>\u001b[0m in \u001b[0;36m<module>\u001b[0;34m()\u001b[0m\n\u001b[0;32m----> 1\u001b[0;31m \u001b[0;32massert\u001b[0m\u001b[0;34m(\u001b[0m\u001b[0mqsort\u001b[0m\u001b[0;34m(\u001b[0m\u001b[0;34m[\u001b[0m\u001b[0;36m4\u001b[0m\u001b[0;34m,\u001b[0m\u001b[0;36m2\u001b[0m\u001b[0;34m,\u001b[0m\u001b[0;36m1\u001b[0m\u001b[0;34m]\u001b[0m\u001b[0;34m)\u001b[0m\u001b[0;34m==\u001b[0m\u001b[0;34m[\u001b[0m\u001b[0;36m1\u001b[0m\u001b[0;34m,\u001b[0m\u001b[0;36m2\u001b[0m\u001b[0;34m,\u001b[0m\u001b[0;36m4\u001b[0m\u001b[0;34m]\u001b[0m\u001b[0;34m)\u001b[0m\u001b[0;34m\u001b[0m\u001b[0m\n\u001b[0m\u001b[1;32m      2\u001b[0m \u001b[0;32massert\u001b[0m\u001b[0;34m(\u001b[0m\u001b[0mqsort\u001b[0m\u001b[0;34m(\u001b[0m\u001b[0;34m[\u001b[0m\u001b[0;36m0\u001b[0m\u001b[0;34m]\u001b[0m\u001b[0;34m)\u001b[0m\u001b[0;34m==\u001b[0m\u001b[0;34m[\u001b[0m\u001b[0;36m0\u001b[0m\u001b[0;34m]\u001b[0m\u001b[0;34m)\u001b[0m\u001b[0;34m\u001b[0m\u001b[0m\n",
      "\u001b[0;31mTypeError\u001b[0m: qsort() missing 1 required positional argument: 'N'"
     ]
    }
   ],
   "source": [
    "assert(qsort([4,2,1])==[1,2,4])\n",
    "assert(qsort([0])==[0])"
   ]
  },
  {
   "cell_type": "markdown",
   "metadata": {
    "deletable": false,
    "editable": false,
    "nbgrader": {
     "checksum": "3f5f9ca976fb636978e2bdfda98a5eeb",
     "grade": false,
     "grade_id": "cell-76883a453f020d72",
     "locked": true,
     "schema_version": 1,
     "solution": false
    }
   },
   "source": [
    "### Question 4b [time estimate: 3 minutes]\n",
    "\n",
    "Now time the algorithm on the same inputs you have used in question 3, adding one more line in the previous graph you have produced. "
   ]
  },
  {
   "cell_type": "code",
   "execution_count": null,
   "metadata": {
    "deletable": false,
    "nbgrader": {
     "checksum": "33188fb282e53d117dfe275067ad3567",
     "grade": true,
     "grade_id": "cell-31ee807cec9ce8bf",
     "locked": false,
     "points": 0,
     "schema_version": 1,
     "solution": true
    }
   },
   "outputs": [],
   "source": [
    "# YOUR CODE HERE\n",
    "raise NotImplementedError()"
   ]
  },
  {
   "cell_type": "markdown",
   "metadata": {
    "deletable": false,
    "editable": false,
    "nbgrader": {
     "checksum": "991ee87c525d8fa29bd448aa80dbf243",
     "grade": false,
     "grade_id": "cell-b666e68e84dfce03",
     "locked": true,
     "schema_version": 1,
     "solution": false
    }
   },
   "source": [
    "## Question 5.\n",
    "\n",
    "### Question 5a [time estimate: 3 minutes]\n",
    "\n",
    "Remove the median-of-3 partitioning, and just use the first element in the array. "
   ]
  },
  {
   "cell_type": "code",
   "execution_count": 6,
   "metadata": {
    "deletable": false,
    "nbgrader": {
     "checksum": "90dbb100f881a2c9a61720a0753ca401",
     "grade": false,
     "grade_id": "cell-4daf36021c15eaf0",
     "locked": false,
     "schema_version": 1,
     "solution": true
    }
   },
   "outputs": [],
   "source": [
    "#Please find code below"
   ]
  },
  {
   "cell_type": "code",
   "execution_count": 7,
   "metadata": {
    "deletable": false,
    "editable": false,
    "nbgrader": {
     "checksum": "9d457eff304d19e031a8eabb4615ca3b",
     "grade": true,
     "grade_id": "cell-97473a9e0d12e745",
     "locked": true,
     "points": 1,
     "schema_version": 1,
     "solution": false
    }
   },
   "outputs": [
    {
     "ename": "TypeError",
     "evalue": "qsort() missing 1 required positional argument: 'N'",
     "output_type": "error",
     "traceback": [
      "\u001b[0;31m---------------------------------------------------------------------------\u001b[0m",
      "\u001b[0;31mTypeError\u001b[0m                                 Traceback (most recent call last)",
      "\u001b[0;32m<ipython-input-7-0ccbde90f5ed>\u001b[0m in \u001b[0;36m<module>\u001b[0;34m()\u001b[0m\n\u001b[0;32m----> 1\u001b[0;31m \u001b[0;32massert\u001b[0m\u001b[0;34m(\u001b[0m\u001b[0mqsort\u001b[0m\u001b[0;34m(\u001b[0m\u001b[0;34m[\u001b[0m\u001b[0;36m4\u001b[0m\u001b[0;34m,\u001b[0m\u001b[0;36m2\u001b[0m\u001b[0;34m,\u001b[0m\u001b[0;36m1\u001b[0m\u001b[0;34m]\u001b[0m\u001b[0;34m)\u001b[0m\u001b[0;34m==\u001b[0m\u001b[0;34m[\u001b[0m\u001b[0;36m1\u001b[0m\u001b[0;34m,\u001b[0m\u001b[0;36m2\u001b[0m\u001b[0;34m,\u001b[0m\u001b[0;36m4\u001b[0m\u001b[0;34m]\u001b[0m\u001b[0;34m)\u001b[0m\u001b[0;34m\u001b[0m\u001b[0m\n\u001b[0m\u001b[1;32m      2\u001b[0m \u001b[0;32massert\u001b[0m\u001b[0;34m(\u001b[0m\u001b[0mqsort\u001b[0m\u001b[0;34m(\u001b[0m\u001b[0;34m[\u001b[0m\u001b[0;36m0\u001b[0m\u001b[0;34m]\u001b[0m\u001b[0;34m)\u001b[0m\u001b[0;34m==\u001b[0m\u001b[0;34m[\u001b[0m\u001b[0;36m0\u001b[0m\u001b[0;34m]\u001b[0m\u001b[0;34m)\u001b[0m\u001b[0;34m\u001b[0m\u001b[0m\n",
      "\u001b[0;31mTypeError\u001b[0m: qsort() missing 1 required positional argument: 'N'"
     ]
    }
   ],
   "source": [
    "assert(qsort([4,2,1])==[1,2,4])\n",
    "assert(qsort([0])==[0])"
   ]
  },
  {
   "cell_type": "markdown",
   "metadata": {
    "deletable": false,
    "editable": false,
    "nbgrader": {
     "checksum": "8f0166e7d0021886bb7176f35011a633",
     "grade": false,
     "grade_id": "cell-2ca71dd53b31262b",
     "locked": true,
     "schema_version": 1,
     "solution": false
    }
   },
   "source": [
    "### Question 5b [time estimate: 3 minutes]\n",
    "\n",
    "Does this change the running time of your algorithm? Justify your response with a graph. \n",
    "\n"
   ]
  },
  {
   "cell_type": "code",
   "execution_count": 8,
   "metadata": {
    "deletable": false,
    "nbgrader": {
     "checksum": "bd863db414089f9ead9906b3c2c34a15",
     "grade": true,
     "grade_id": "cell-1f3a6df29d324853",
     "locked": false,
     "points": 0,
     "schema_version": 1,
     "solution": true
    }
   },
   "outputs": [
    {
     "data": {
      "image/png": "[encoded data removed]",
      "text/plain": [
       "<Figure size 432x288 with 1 Axes>"
      ]
     },
     "metadata": {},
     "output_type": "display_data"
    }
   ],
   "source": [
    "import time\n",
    "import random\n",
    "import matplotlib.pyplot as plt\n",
    "\n",
    "eps = 1e-16\n",
    "locations = [0.0, 0.5, 1.0 - eps]\n",
    "\n",
    "def qsort(lst, N):\n",
    "    indices = [(0, len(lst))] #Creates a list holding tuples of the first and last index of a subarray\n",
    "\n",
    "    while indices: #While there are unsorted subarrays \n",
    "        (frm, to) = indices.pop() #last tuple with the indexes to sort between\n",
    "        if frm == to: #if the subarray list is just 1 element\n",
    "            continue\n",
    "\n",
    "        # Find the partition:\n",
    "        partition = lst[frm]\n",
    "\n",
    "        # Split into lists:\n",
    "        lower = [a for a in lst[frm:to] if a < partition] #Finds all the values smaller than the partition value\n",
    "        upper = [a for a in lst[frm:to] if a > partition] #Finds all the values bigger than the partition value\n",
    "        counts = sum([1 for a in lst[frm:to] if a == partition]) #Finds the many times the partition value appeats\n",
    "\n",
    "        ind1 = frm + len(lower) #finds the index for the last element in the lower subarray \n",
    "        ind2 = ind1 + counts #Finds the index for the first element in the upper subarray\n",
    "\n",
    "        # Push back into correct place:\n",
    "        lst[frm:ind1] = lower #Inserts the lower subarray\n",
    "        lst[ind1:ind2] = [partition] * counts #inserts all the dublicated partition values\n",
    "        lst[ind2:to] = upper #inserts the upper subarray\n",
    "\n",
    "        # Enqueue other locations\n",
    "        indices.append((frm, ind1)) #appends the indexes for the less subarray\n",
    "        indices.append((ind2, to)) #appends the indexes for the greater subarray\n",
    "    return lst\n",
    "\n",
    "\n",
    "def randomized_quicksort(N):\n",
    "    \"\"\"This function creates a list of N distincs integers in random order\n",
    "    , and then sorts it usingg quick sort\n",
    "    \"\"\"\n",
    "    lst = [i for i in range(N)] #list of N distincs integers\n",
    "    random.shuffle(lst) #shuffles the list\n",
    "    return qsort(lst, N) #sorts is using quicksort\n",
    "\n",
    "def plot_run_time():\n",
    "    time_list = []\n",
    "    N_list = []\n",
    "    for a in range(1,1001, 10):\n",
    "       \n",
    "        str_time = time.time()\n",
    "        N = 100*a\n",
    "        \n",
    "        randomized_quicksort(N)\n",
    "        \n",
    "        time_list.append(time.time()-str_time)\n",
    "        N_list.append(N)\n",
    "    \n",
    "    plt.plot(N_list, time_list)\n",
    "    plt.xlabel('input size')\n",
    "    plt.ylabel('runtime (s)')\n",
    "    plt.title('Runtime for random quicksort')\n",
    "    plt.show()\n",
    "\n",
    "plot_run_time()\n",
    "    "
   ]
  },
  {
   "cell_type": "markdown",
   "metadata": {},
   "source": [
    "Comparing the modified quicksort, we see that the runtime are asymptotically the same. However, the absolute runtime seems to be faster by approximatly 20%. This is probably because we remove the find median function and replaces it with deciding on the first element to be our pivot. We can only do so since we have a random input and the splits around the 1 pivot will be as balanced and the median pivot."
   ]
  },
  {
   "cell_type": "markdown",
   "metadata": {
    "deletable": false,
    "editable": false,
    "nbgrader": {
     "checksum": "51af6d987694ab6231a6f4aa19f39164",
     "grade": false,
     "grade_id": "cell-67512d1d42af415f",
     "locked": true,
     "schema_version": 1,
     "solution": false
    }
   },
   "source": [
    "## Part B. Recursive quicksort [time estimate: 5 minutes]\n",
    "\n",
    "One main difference between the quicksort algorithms in Cormen et al. and the implementation in the code above is that quick sort (in the code in this notebook) is not recursive, while $QUICKSORT$ in Cormen et al. is. Given the limitation of Python so that it can only make 500 recursive calls, estimate the maximum size of the list that can be sorted by Python if a recursive quicksort is to be used. Explicitly state all assumptions you make in getting to an answer.\n"
   ]
  },
  {
   "cell_type": "markdown",
   "metadata": {
    "deletable": false,
    "nbgrader": {
     "checksum": "7be7bc411376ac8090621f3d68630c10",
     "grade": true,
     "grade_id": "cell-4af5aab4ad1a7225",
     "locked": false,
     "points": 0,
     "schema_version": 1,
     "solution": true
    }
   },
   "source": [
    "We assume that we have perfect balanced splits and such the depth of the recursive calls will be log (n). On each level we will have accumulated have 2^(h)-1 nodes where h is the height or log(n). However, the last layer will not do any recursive calls. Therefore, If we are to have a python tree of depth 500, we can solve $2^(log(n)-)-1=500$\n",
    "\n",
    "$2^(log(n)-)-1=500 = 21347$\n",
    "\n",
    "We could at maximum have a list of length 21347\n",
    "\n",
    "However, if we would have sub optimal balance, this number is probably less."
   ]
  },
  {
   "cell_type": "code",
   "execution_count": null,
   "metadata": {},
   "outputs": [],
   "source": []
  }
 ],
 "metadata": {
  "kernelspec": {
   "display_name": "Python 3",
   "language": "python",
   "name": "python3"
  },
  "language_info": {
   "codemirror_mode": {
    "name": "ipython",
    "version": 3
   },
   "file_extension": ".py",
   "mimetype": "text/x-python",
   "name": "python",
   "nbconvert_exporter": "python",
   "pygments_lexer": "ipython3",
   "version": "3.6.5"
  }
 },
 "nbformat": 4,
 "nbformat_minor": 2
}
