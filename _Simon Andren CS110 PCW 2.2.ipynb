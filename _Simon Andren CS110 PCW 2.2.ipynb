{
 "cells": [
  {
   "cell_type": "markdown",
   "metadata": {},
   "source": [
    "Before you turn this problem in, make sure everything runs as expected. First, **restart the kernel** (in the menubar, select Kernel$\\rightarrow$Restart) and then **run all cells** (in the menubar, select Cell$\\rightarrow$Run All).\n",
    "\n",
    "Note that this Pre-class Work is estimated to take **31 minutes**.\n",
    "\n",
    "Make sure you fill in any place that says `YOUR CODE HERE` or \"YOUR ANSWER HERE\", as well as your name and collaborators below:"
   ]
  },
  {
   "cell_type": "code",
   "execution_count": 1,
   "metadata": {},
   "outputs": [],
   "source": [
    "NAME = \"Simon Andren\"\n",
    "COLLABORATORS = \"NA\""
   ]
  },
  {
   "cell_type": "markdown",
   "metadata": {},
   "source": [
    "---"
   ]
  },
  {
   "cell_type": "markdown",
   "metadata": {
    "deletable": false,
    "editable": false,
    "nbgrader": {
     "checksum": "df135f0c4ea26cc7c0b25cb64a20e634",
     "grade": false,
     "grade_id": "cell-b46066345313bea6",
     "locked": true,
     "schema_version": 1,
     "solution": false
    }
   },
   "source": [
    "# CS110 Pre-class Work - Measuring algorithms' efficiency\n",
    "\n",
    "## Question 1 [time estimate: 15 minutes]\n",
    "\n",
    "Copy and paste the code for Insertion, Selection, and Bubble sort algorithms you wrote in Lesson \"Analyzing elementary sorting algorithm\" on the cells below. For each sorting algorithm, modify the code to introduce step counters. Your functions should return only the number of steps they took to sort the list. This will help you in a in-class activity for this lesson and for the PCW of the next lesson. Make sure to test your code by provinding different input lists of different sizes."
   ]
  },
  {
   "cell_type": "code",
   "execution_count": 2,
   "metadata": {
    "deletable": false,
    "nbgrader": {
     "checksum": "525698a22b0cee9c4cb74be2011232de",
     "grade": true,
     "grade_id": "cell-1eadb1312ac0519d",
     "locked": false,
     "points": 0,
     "schema_version": 1,
     "solution": true
    }
   },
   "outputs": [
    {
     "name": "stdout",
     "output_type": "stream",
     "text": [
      "140\n",
      "32\n"
     ]
    }
   ],
   "source": [
    "def insertion_sort(A):\n",
    "    Step_Count = 0\n",
    "    for j in range(1, len(A)):\n",
    "        Step_Count += 1\n",
    "        \n",
    "        key = A[j]\n",
    "        Step_Count += 1\n",
    "        \n",
    "        i= j-1\n",
    "        Step_Count += 1\n",
    "        \n",
    "        while i >= 0 and A[i]>key:\n",
    "            Step_Count += 1\n",
    "            \n",
    "            A[i+1] = A[i]\n",
    "            Step_Count += 1\n",
    "            \n",
    "            i -= 1\n",
    "            Step_Count += 1\n",
    "            \n",
    "        A[i+1] = key\n",
    "        Step_Count += 1\n",
    "        \n",
    "    return Step_Count\n",
    "    raise NotImplementedError()\n",
    "    \n",
    "a_list = [9,8,7,6,5,4,3,2,1]\n",
    "a_list_reverse = [1,2,3,4,5,6,7,8,9]\n",
    "print(insertion_sort(a_list))\n",
    "print(insertion_sort(a_list_reverse))\n"
   ]
  },
  {
   "cell_type": "code",
   "execution_count": 3,
   "metadata": {
    "deletable": false,
    "nbgrader": {
     "checksum": "525698a22b0cee9c4cb74be2011232de",
     "grade": true,
     "grade_id": "cell-1eadb1312ac0519d",
     "locked": false,
     "points": 0,
     "schema_version": 1,
     "solution": true
    }
   },
   "outputs": [
    {
     "name": "stdout",
     "output_type": "stream",
     "text": [
      "116\n",
      "44\n"
     ]
    }
   ],
   "source": [
    "def bubble_sort(A):\n",
    "    Step_Count = 0\n",
    "    \n",
    "    for i in range(0 , len(A)-1): #Loops over all the items in A (i = 0 to len(A)-1)\n",
    "        Step_Count += 1\n",
    "        \n",
    "        for j in range(len(A)-1, i, -1): #Loops backward from the last entry to the entry before the sorted items\n",
    "            Step_Count += 1\n",
    "            \n",
    "            if A[j] < A[j-1]: #If the item to the left is bigger, swap places\n",
    "                Step_Count += 1\n",
    "                \n",
    "                A[j], A[j-1] = A[j-1], A[j]\n",
    "                Step_Count += 1\n",
    "    \n",
    "    return Step_Count\n",
    "    raise NotImplementedError()\n",
    "\n",
    "        \n",
    "a_list = [9,8,7,6,5,4,3,2,1]\n",
    "a_list_reverse = [1,2,3,4,5,6,7,8,9]\n",
    "print(bubble_sort(a_list))\n",
    "print(bubble_sort(a_list_reverse))"
   ]
  },
  {
   "cell_type": "code",
   "execution_count": 4,
   "metadata": {
    "deletable": false,
    "nbgrader": {
     "checksum": "525698a22b0cee9c4cb74be2011232de",
     "grade": true,
     "grade_id": "cell-1eadb1312ac0519d",
     "locked": false,
     "points": 0,
     "schema_version": 1,
     "solution": true
    }
   },
   "outputs": [
    {
     "name": "stdout",
     "output_type": "stream",
     "text": [
      "104\n",
      "64\n"
     ]
    }
   ],
   "source": [
    "def selection_sort(A):\n",
    "    Step_Count = 0\n",
    "    \n",
    "    n = len(A)\n",
    "    Step_Count += 1\n",
    "    \n",
    "    for i in range(0, n-2): #Loops through all elements except the last one\n",
    "        Step_Count += 1\n",
    "        \n",
    "        minidx = i #The index of the smalles number is set to i\n",
    "        Step_Count += 1\n",
    "        \n",
    "        for j in range(i, n): #Loops though all the elements from i to the last element\n",
    "            Step_Count += 1\n",
    "            \n",
    "            if A[j] < A[minidx]: #If the value of the current element is less that the value of the current minimum value\n",
    "                Step_Count += 1\n",
    "                \n",
    "                minidx = j #assign the current element index to minidx\n",
    "                Step_Count += 1\n",
    "                \n",
    "        A[i], A[minidx] = A[minidx], A[i] #Swaps the elements so the lowest value is in the last element in the sorted sectoin\n",
    "        Step_Count += 1\n",
    "    \n",
    "    return Step_Count\n",
    "    raise NotImplementedError()\n",
    "\n",
    "\n",
    "a_list = [9,8,7,6,5,4,3,2,1]\n",
    "a_list_reverse = [1,2,3,4,5,6,7,8,9]\n",
    "print(selection_sort(a_list))\n",
    "print(selection_sort(a_list_reverse))\n",
    "\n"
   ]
  },
  {
   "cell_type": "markdown",
   "metadata": {
    "deletable": false,
    "editable": false,
    "nbgrader": {
     "checksum": "9d7a3b260b0fef93382fb52aa393f963",
     "grade": false,
     "grade_id": "cell-0ac1c20b43acb363",
     "locked": true,
     "schema_version": 1,
     "solution": false
    }
   },
   "source": [
    "## Question 2 [time estimate: 10 minutes]\n",
    "\n",
    "Studying these sorting algorithms in detail, identify for which kinds of input they would perform better or worst in completing the task of sorting a list. Give examples to complement your answer."
   ]
  },
  {
   "cell_type": "markdown",
   "metadata": {
    "deletable": false,
    "nbgrader": {
     "checksum": "eb02c9951e19ee43d128fa93dd53eaad",
     "grade": true,
     "grade_id": "cell-5ecb51404140cb2f",
     "locked": false,
     "points": 0,
     "schema_version": 1,
     "solution": true
    }
   },
   "source": [
    "- **Insertion Sort**\n",
    "    - Best-case input: The best case input for the insertion sort is a already sorted list. This is because the algorithm would never need to enter the while loop. An example of this is [1,2,3,4,5,6,7,8,9]\n",
    "    - Worst-case input: The worste case input is a reversed sorted list. This is because the while loop would need to loop it's maximum times (j-1) each time. AN examplpe would be [9,8,7,6,5,4,3,2,1]\n",
    "    \n",
    "- **Bubble Sort**\n",
    "    - Best-case input: Best case scenario would be a sorted list. This is because the if statement would never be triggering and the swap would never be done. An example would be [1,2,3,4,5,6,7,8,9]\n",
    "    - Worst-case input: This would be similar as for insertion, the worst case would be an unsorted list. This would be the worst case because in the nested foor loop, the if statement would be triggered each time having making the algorithm swap places for all the items each time. [9,8,7,6,5,4,3,2,1]\n",
    "    \n",
    "- **Selection Sort**\n",
    "    - Best-case input: In the case of the selection sort, there would not be any large difference between the best case scenario and the worst case scenario. This is because the algorithm would search through the list (or the remainder of it) each loop. Even if it sorted or not. However, if the list is sorted, no swap would be needed and n computations would be saved.\n",
    "    - Worst-case input: The worst case would be an reversed sorted algorithm, that would take n more steps than the best case scenario"
   ]
  },
  {
   "cell_type": "markdown",
   "metadata": {
    "deletable": false,
    "editable": false,
    "nbgrader": {
     "checksum": "cb0b8b9c4b153530d47b437baa24098d",
     "grade": false,
     "grade_id": "cell-b22dce6b32afe1a9",
     "locked": true,
     "schema_version": 1,
     "solution": false
    }
   },
   "source": [
    "## Question 3 [time estimate: 3 minutes]\n",
    "\n",
    "Given your answers to the previous question, is there any algorithm that performs asymptotically the same for any kind of input? Explain your answer."
   ]
  },
  {
   "cell_type": "markdown",
   "metadata": {
    "deletable": false,
    "nbgrader": {
     "checksum": "4ff5af35daed9a5442ba229263bdde33",
     "grade": true,
     "grade_id": "cell-442998d5fdd8b561",
     "locked": false,
     "points": 0,
     "schema_version": 1,
     "solution": true
    }
   },
   "source": [
    "Yes! Selection sort preforms asymptotically the same for any kind of input. This is because it will always check through the unsorted section of the list every time. No matter how the list is structured. There will be no major difference between any input list of the same n."
   ]
  },
  {
   "cell_type": "markdown",
   "metadata": {
    "deletable": false,
    "editable": false,
    "nbgrader": {
     "checksum": "cb0b8b9c4b153530d47b437baa24098d",
     "grade": false,
     "grade_id": "cell-b22dce6b32afe1a9",
     "locked": true,
     "schema_version": 1,
     "solution": false
    }
   },
   "source": [
    "## Question 4 [time estimate: 3 minutes]\n",
    "\n",
    "Besides the step counters you introduced and the algorithms' running times you studied in the previous session, can you think of other metrics you could use to measure an algorithm's efficiency? Explain your reasoning."
   ]
  },
  {
   "cell_type": "markdown",
   "metadata": {
    "nbgrader": {
     "checksum": "4ff5af35daed9a5442ba229263bdde33",
     "grade": true,
     "grade_id": "cell-442998d5fdd8b561",
     "locked": false,
     "points": 0,
     "schema_version": 1,
     "solution": true
    }
   },
   "source": [
    "Another matrics one could use is to analyse the amount of space needed for the algorithm. Both bubble and selecion sort doesn't need any required space as it is in-place sorting while the insertion requires an item to be hold outside the list. Another metric could be the average running time, of Big-Theta Notion. This could be intersted since the worst case and average case could either be very similar or not. If two algorithms have the same worst case, but one has better average case running time, that one would seem to me to be the more efficent algorithm."
   ]
  }
 ],
 "metadata": {
  "kernelspec": {
   "display_name": "Python 3",
   "language": "python",
   "name": "python3"
  },
  "language_info": {
   "codemirror_mode": {
    "name": "ipython",
    "version": 3
   },
   "file_extension": ".py",
   "mimetype": "text/x-python",
   "name": "python",
   "nbconvert_exporter": "python",
   "pygments_lexer": "ipython3",
   "version": "3.6.5"
  }
 },
 "nbformat": 4,
 "nbformat_minor": 2
}
