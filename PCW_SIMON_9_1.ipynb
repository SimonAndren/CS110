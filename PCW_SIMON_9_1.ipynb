{
 "cells": [
  {
   "cell_type": "markdown",
   "metadata": {},
   "source": [
    "Before you turn this problem in, make sure everything runs as expected. First, **restart the kernel** (in the menubar, select Kernel$\\rightarrow$Restart) and then **run all cells** (in the menubar, select Cell$\\rightarrow$Run All).\n",
    "\n",
    "Note that this Pre-class Work is estimated to take **37 minutes**.\n",
    "\n",
    "Make sure you fill in any place that says `YOUR CODE HERE` or \"YOUR ANSWER HERE\", as well as your name and collaborators below:"
   ]
  },
  {
   "cell_type": "code",
   "execution_count": 1,
   "metadata": {},
   "outputs": [],
   "source": [
    "NAME = \"Simon Andren\"\n",
    "COLLABORATORS = \"\""
   ]
  },
  {
   "cell_type": "markdown",
   "metadata": {},
   "source": [
    "Hi! \n",
    "To be honest, I found this pre-class very tricky and didn't manage to complete it after hours of trying... I'm not completly sure what I've done and what I haven't done. "
   ]
  },
  {
   "cell_type": "markdown",
   "metadata": {},
   "source": [
    "---"
   ]
  },
  {
   "cell_type": "markdown",
   "metadata": {
    "deletable": false,
    "editable": false,
    "nbgrader": {
     "checksum": "dcf331a073440fc878c931847bcad205",
     "grade": false,
     "grade_id": "cell-856b478addb28fe9",
     "locked": true,
     "schema_version": 1,
     "solution": false
    }
   },
   "source": [
    "# CS110 Pre-class Work - Binary Search Trees (BSTs)\n",
    "\n",
    "## Question 1. (Exercise 12.2-1, Cormen et al.) [time estimate: 5 minutes]\n",
    "\n",
    "Suppose that we have numbers between 1 and 1000 in a binary search tree, and we want to search for the number 363. Which of the following sequences could not be the sequence of nodes examined?\n",
    "\n",
    "a. 2, 252, 401, 398, 330, 344, 397, 363.\n",
    "\n",
    "b. 924, 220, 911, 244, 898, 258, 362, 363.\n",
    "\n",
    "c. 925, 202, 911, 240, 912, 245, 363.\n",
    "\n",
    "d. 2, 399, 387, 219, 266, 382, 381, 278, 363.\n",
    "\n",
    "e. 935, 278, 347, 621, 299, 392, 358, 363.\n"
   ]
  },
  {
   "cell_type": "markdown",
   "metadata": {
    "deletable": false,
    "nbgrader": {
     "checksum": "caad0ddbf7180e6e9f1cf54ef809d5a8",
     "grade": true,
     "grade_id": "cell-4ba31a88562b2669",
     "locked": false,
     "points": 0,
     "schema_version": 1,
     "solution": true
    }
   },
   "source": [
    "C could not be a sequence of nodes examined. This is because after examing 911, we move to the left subtree of 911 with root 240. All key in this left subtree should be less than 911. From there, we move to the right subtree of 240 with a value of 912 which is > that 911 therefore, this entire tree would not be a BTS"
   ]
  },
  {
   "cell_type": "markdown",
   "metadata": {
    "deletable": false,
    "editable": false,
    "nbgrader": {
     "checksum": "2608634a994745e8cabbc68e04197aeb",
     "grade": false,
     "grade_id": "cell-e2fe6a81a328e94e",
     "locked": true,
     "schema_version": 1,
     "solution": false
    }
   },
   "source": [
    "## Question 2. Comparing complexities [time estimate: 7 minutes]\n",
    "Complete the following table with the average vs worst case complexities for the data structures in each row.\n",
    "\n",
    "You should copy the following table and paste and edit it in the cell below. \n",
    "\n",
    "Operations | BST | Hash table using open addressing | Min heap\n",
    "--- | --- | --- | ---\n",
    "Search |  |  |\n",
    "Find max |  |  |\n",
    "Find min |  |  |\n",
    "Max extraction  |  |  |\n",
    "Min extraction |  |  |\n",
    "Find successor |  |  |\n",
    "Find predecessor |  |  |\n",
    "Insert |  |  |\n",
    "Delete |  |  |\n",
    "\n"
   ]
  },
  {
   "cell_type": "markdown",
   "metadata": {
    "deletable": false,
    "nbgrader": {
     "checksum": "b333dea7231946830dc83e0374b46384",
     "grade": true,
     "grade_id": "cell-103e7647a8a92a95",
     "locked": false,
     "points": 0,
     "schema_version": 1,
     "solution": true
    }
   },
   "source": [
    "Operations | BST | Hash table using open addressing | Min heap\n",
    "--- | --- | --- | ---\n",
    "Search | $\\theta(h) & O(h)$ | $\\theta(1) & O(n)$ | $\\theta(n) & O(n)$\n",
    "Find max | $\\theta(h) & O(h)$ | $\\theta(1) & O(n)$ | $\\theta(n) & O(n)$\n",
    "Find min | $\\theta(h) & O(h)$ | $\\theta(1) & O(n)$ | $\\theta(1) & O(1)$\n",
    "Max extraction  | $\\theta(h) & O(n)$ | $\\theta(1) & O(n)$ | $\\theta(n) & O(n)$\n",
    "Min extraction | $\\theta(h) & O(n)$ | $\\theta(1) & O(n)$ | $\\theta(1) & O(1)$\n",
    "Find successor | $\\theta(h) & O(h)$ | $\\theta(1) & O(n)$ | $\\theta(n) & O(nlogn)$\n",
    "Find predecessor | $\\theta(h) & O(h)$ | $\\theta(1) & O(n)$ | $\\theta(n) & O(nlogn)$\n",
    "Insert | $\\theta(h) & O(n)$ | $\\theta(1) & O(n)$ | $\\theta(h) & O(n)$\n",
    "Delete | $\\theta(h) & O(n)$ | $\\theta(1) & O(n)$ | $\\theta(h) & O(h)$\n"
   ]
  },
  {
   "cell_type": "markdown",
   "metadata": {
    "deletable": false,
    "editable": false,
    "nbgrader": {
     "checksum": "350918858ed77bb73434c159714237a6",
     "grade": false,
     "grade_id": "cell-f0b8945e898ae4eb",
     "locked": true,
     "schema_version": 1,
     "solution": false
    }
   },
   "source": [
    "## Question 3. Programming a recursive BST [time estimate: 12 minutes]\n",
    "\n",
    "Given the code in the cell below, write python code for the corresponding functions:\n",
    "\n",
    "* function `search(self, value)`: searches a *non-empty* BST rooted at the node for a node with `data=value`, returns the node if found, None otherwise\n",
    "* function `delete(self, value)`: if a node with data = value is present in the tree rooted at Node, deletes that node and returns the root.\n",
    "* function `inorder(self)`: returns a list of all data in the tree rooted at root produced using an in order traversal. When correctly implemented on a BST, the produced list will be sorted in ascending order.\n",
    "\n",
    "You may find it useful to define additional helper functions.\n"
   ]
  },
  {
   "cell_type": "code",
   "execution_count": 2,
   "metadata": {
    "deletable": false,
    "nbgrader": {
     "checksum": "d30a8a11c0dc7730c76d82543f16814f",
     "grade": false,
     "grade_id": "cell-699ae21855637a38",
     "locked": false,
     "schema_version": 1,
     "solution": true
    }
   },
   "outputs": [],
   "source": [
    "## Binary Search Tree\n",
    "##\n",
    "class Node:\n",
    "    def __init__(self, val):\n",
    "        self.l_child = None\n",
    "        self.r_child = None\n",
    "        self.parent = None\n",
    "        self.data = val\n",
    "\n",
    "    def insert(self, node):\n",
    "        \"\"\"inserts a node into a *non-empty* tree rooted at the node, returns\n",
    "        the root\"\"\"\n",
    "        if self.data > node.data:\n",
    "            if self.l_child is None:\n",
    "                self.l_child = node\n",
    "                node.parent = self\n",
    "            else:\n",
    "                self.l_child.insert(node)\n",
    "        else:\n",
    "            if self.r_child is None:\n",
    "                self.r_child = node\n",
    "                node.parent = self\n",
    "            else:\n",
    "                self.r_child.insert(node)\n",
    "        return self\n",
    "    \n",
    "    def minimum(self):\n",
    "        node = self\n",
    "        while node.l_child != None:\n",
    "            node = node.l_child\n",
    "        return node\n",
    "\n",
    "    def search_data(self, value):\n",
    "        \"\"\"searches a *non-empty* tree rooted at the node for a node with\n",
    "        data = value, returns the value if found, None otherwise\"\"\"\n",
    "        node = self.search(value)\n",
    "        if node:\n",
    "            return node.data\n",
    "        else:\n",
    "            return node\n",
    "        \n",
    "    def to_string(self): \n",
    "        print('self.data', self.data)\n",
    "        root=self\n",
    "        if not root: \n",
    "            return 'Nil'\n",
    "        else: \n",
    "            r = root.r_child.to_string() if root.r_child else 'Nil'\n",
    "            l = root.l_child.to_string() if root.l_child else 'Nil'\n",
    "        return 'Node(' + str(root.data) + ' L: ' + l + ' R: ' + r + ')'\n",
    "    \n",
    "    \n",
    "    def search(self, value):\n",
    "        if value == self.data:\n",
    "            return self\n",
    "        elif value > self.data and self.r_child:\n",
    "            return self.r_child.search(value)\n",
    "        elif value < self.data and self.l_child:\n",
    "            return self.l_child.search(value)\n",
    "    \n",
    "    def transplant(self, u,v):\n",
    "        if u.parent==None:\n",
    "            u = v\n",
    "        elif u == u.parent.l_child:\n",
    "            u.parent.l_child = v\n",
    "        else:\n",
    "            u.parent.r_child = v\n",
    "        if v != None:\n",
    "            v.parent = u.parent\n",
    "            \n",
    "    def delete(self, z):\n",
    "        z = self.search(z)\n",
    "        if z==None:\n",
    "            return None\n",
    "        if z.l_child == None:\n",
    "            self.transplant(z, z.r_child)\n",
    "        elif z.r_child == None:\n",
    "            self.transplant(z, z.l_child)\n",
    "        else:\n",
    "            y = z.r_child.minimum()\n",
    "            if not y.parent == z:\n",
    "                self.transplant(y, y.r_child)\n",
    "                y.r_child = z.r_child\n",
    "                y.r_child.parent = y\n",
    "            self.transplant(z, y)\n",
    "            y.l_child = z.l_child\n",
    "            y.l_child.parent = y\n",
    "    \n",
    "    def inorder(self, lst=[]):\n",
    "        \n",
    "        if self.l_child:\n",
    "            self.l_child.inorder(lst)\n",
    "            lst.append(self.data)\n",
    "        if self.r_child:\n",
    "            self.r_child.inorder(lst)\n",
    "        return lst\n",
    "            \n",
    "    #raise NotImplementedError()\n"
   ]
  },
  {
   "cell_type": "code",
   "execution_count": null,
   "metadata": {},
   "outputs": [],
   "source": []
  },
  {
   "cell_type": "markdown",
   "metadata": {
    "deletable": false,
    "editable": false,
    "nbgrader": {
     "checksum": "8b126b45ed170734c6d243dbde6ec892",
     "grade": false,
     "grade_id": "cell-6e99c15ebbccbcff",
     "locked": true,
     "schema_version": 1,
     "solution": false
    }
   },
   "source": [
    "## Question 4. Validating the BST python code [time estimate: 13 minutes]\n",
    "\n",
    "### Question 4a [time estimate: 3 minutes]\n",
    "\n",
    "It is good practice to make the necessary tests in your code to ensure it produces the intended outputs. In the cells below, implement slow, but simple:\n",
    "* inserts,\n",
    "* searches,\n",
    "* deletes.\n"
   ]
  },
  {
   "cell_type": "code",
   "execution_count": 3,
   "metadata": {
    "deletable": false,
    "nbgrader": {
     "checksum": "2e246944222ceb6db976ba1af84f791a",
     "grade": false,
     "grade_id": "cell-8ffe02954ab45b77",
     "locked": false,
     "schema_version": 1,
     "solution": true
    }
   },
   "outputs": [],
   "source": [
    "def list_insert(lst, value):\n",
    "    \"\"\"inserts value into lst in sorted order\"\"\"\n",
    "    \n",
    "    lower = sum([1 for a in lst if a < value])\n",
    "    \n",
    "    lst.insert(lower, value)\n",
    "\n"
   ]
  },
  {
   "cell_type": "code",
   "execution_count": 4,
   "metadata": {
    "deletable": false,
    "nbgrader": {
     "checksum": "99cadda3119181ec5d6c967d7ea15090",
     "grade": false,
     "grade_id": "cell-0e246c5c19ef7b80",
     "locked": false,
     "schema_version": 1,
     "solution": true
    }
   },
   "outputs": [],
   "source": [
    "def list_delete(lst, value):\n",
    "    \"\"\" deletes first instance of value from lst if it present\"\"\"\n",
    "    \n",
    "    lst.remove(value)\n"
   ]
  },
  {
   "cell_type": "code",
   "execution_count": 5,
   "metadata": {
    "deletable": false,
    "nbgrader": {
     "checksum": "024018f03e113eced89d464c96d522f6",
     "grade": false,
     "grade_id": "cell-f6b55b9878c6fdf1",
     "locked": false,
     "schema_version": 1,
     "solution": true
    }
   },
   "outputs": [],
   "source": [
    "def list_search(lst, value): \n",
    "    \"\"\" searches lst for value and returns value if present, None if it is not present\"\"\"\n",
    "    \n",
    "    if value in lst:\n",
    "        return value\n",
    "    else:\n",
    "        return None\n",
    "    \n",
    "    raise NotImplementedError()"
   ]
  },
  {
   "cell_type": "markdown",
   "metadata": {
    "deletable": false,
    "editable": false,
    "nbgrader": {
     "checksum": "4b67b5285b803538fc34c696acb4fce3",
     "grade": false,
     "grade_id": "cell-50a5730f995c1ec5",
     "locked": true,
     "schema_version": 1,
     "solution": false
    }
   },
   "source": [
    "### Question 4b [time estimate: 10 minutes]\n",
    "Run the testing code provided in the cell below to generate a sequence of random inserts, followed by a sequence of random deletes, and finally followed by a sequence of random searches. Apply this sequence to both your BST implementation and the sorted list implementation. Do the final results both match? Does this mean your code is free of bugs? Provide your answer to these questions in the cell below the Python-code cell."
   ]
  },
  {
   "cell_type": "code",
   "execution_count": 6,
   "metadata": {},
   "outputs": [
    {
     "name": "stdout",
     "output_type": "stream",
     "text": [
      "###################\n",
      "Inserting the following node:  2\n",
      "self.data 2\n",
      "Node(2 L: Nil R: Nil)\n",
      "###################\n",
      "Inserting the following node:  3\n",
      "self.data 2\n",
      "self.data 3\n",
      "Node(2 L: Nil R: Node(3 L: Nil R: Nil))\n",
      "###################\n",
      "Inserting the following node:  5\n",
      "self.data 2\n",
      "self.data 3\n",
      "self.data 5\n",
      "Node(2 L: Nil R: Node(3 L: Nil R: Node(5 L: Nil R: Nil)))\n",
      "###################\n",
      "Inserting the following node:  1\n",
      "self.data 2\n",
      "self.data 3\n",
      "self.data 5\n",
      "self.data 1\n",
      "Node(2 L: Node(1 L: Nil R: Nil) R: Node(3 L: Nil R: Node(5 L: Nil R: Nil)))\n"
     ]
    }
   ],
   "source": [
    "bst = None # bst is a misnormer, this variable contains the Node that is the root of the BST of interest\n",
    "lst = []\n",
    "\n",
    "my_Nodes = [2, 3, 5, 1]\n",
    "for x in [Node(_) for _ in my_Nodes]:\n",
    "    print(\"###################\")\n",
    "    print('Inserting the following node: ', x.data)\n",
    "    if not bst:\n",
    "        bst = x\n",
    "    else:\n",
    "        bst = bst.insert(x)\n",
    "    print(bst.to_string())"
   ]
  },
  {
   "cell_type": "code",
   "execution_count": 7,
   "metadata": {},
   "outputs": [
    {
     "name": "stdout",
     "output_type": "stream",
     "text": [
      "###################\n",
      "Inserting the following node:  18\n",
      "###################\n",
      "Inserting the following node:  13\n",
      "###################\n",
      "Inserting the following node:  13\n",
      "###################\n",
      "Inserting the following node:  5\n",
      "###################\n",
      "Inserting the following node:  5\n",
      "###################\n",
      "Inserting the following node:  17\n",
      "###################\n",
      "Inserting the following node:  3\n",
      "###################\n",
      "Inserting the following node:  3\n",
      "###################\n",
      "Inserting the following node:  2\n",
      "###################\n",
      "Inserting the following node:  5\n",
      "###################\n",
      "Inserting the following node:  5\n",
      "###################\n",
      "Inserting the following node:  12\n",
      "###################\n",
      "Inserting the following node:  4\n",
      "###################\n",
      "Inserting the following node:  16\n",
      "###################\n",
      "Inserting the following node:  19\n",
      "###################\n",
      "Inserting the following node:  8\n",
      "###################\n",
      "Inserting the following node:  18\n",
      "###################\n",
      "Inserting the following node:  9\n",
      "###################\n",
      "Inserting the following node:  13\n",
      "###################\n",
      "Inserting the following node:  15\n",
      "In order traversal:  [3, 5, 12, 13, 16, 17, 18, 19]\n"
     ]
    }
   ],
   "source": [
    "import random\n",
    "\n",
    "bst = None # bst is a misnormer, this variable contains the Node that is the root of the BST of interest\n",
    "lst = []\n",
    "\n",
    "\n",
    "for x in [Node(random.randint(0,20)) for _ in range(20)]:\n",
    "    print(\"###################\")\n",
    "    print('Inserting the following node: ', x.data)\n",
    "    if not bst:\n",
    "        bst = x\n",
    "    else:\n",
    "        bst = bst.insert(x)\n",
    "    list_insert(lst, x.data)\n",
    "    \n",
    "print('In order traversal: ', bst.inorder())"
   ]
  },
  {
   "cell_type": "code",
   "execution_count": 8,
   "metadata": {
    "deletable": false,
    "nbgrader": {
     "checksum": "f4207134a8d246d41f1b002c079e5d59",
     "grade": false,
     "grade_id": "cell-ebddd4da79a3da28",
     "locked": false,
     "schema_version": 1,
     "solution": true
    }
   },
   "outputs": [
    {
     "ename": "NotImplementedError",
     "evalue": "",
     "output_type": "error",
     "traceback": [
      "\u001b[0;31m---------------------------------------------------------------------------\u001b[0m",
      "\u001b[0;31mNotImplementedError\u001b[0m                       Traceback (most recent call last)",
      "\u001b[0;32m<ipython-input-8-15b94d1fa268>\u001b[0m in \u001b[0;36m<module>\u001b[0;34m()\u001b[0m\n\u001b[1;32m      1\u001b[0m \u001b[0;31m# YOUR CODE HERE\u001b[0m\u001b[0;34m\u001b[0m\u001b[0;34m\u001b[0m\u001b[0m\n\u001b[0;32m----> 2\u001b[0;31m \u001b[0;32mraise\u001b[0m \u001b[0mNotImplementedError\u001b[0m\u001b[0;34m(\u001b[0m\u001b[0;34m)\u001b[0m\u001b[0;34m\u001b[0m\u001b[0m\n\u001b[0m",
      "\u001b[0;31mNotImplementedError\u001b[0m: "
     ]
    }
   ],
   "source": [
    "# YOUR CODE HERE\n",
    "raise NotImplementedError()"
   ]
  },
  {
   "cell_type": "markdown",
   "metadata": {
    "deletable": false,
    "nbgrader": {
     "checksum": "11743c20bdd473ed59d8b90c514f6176",
     "grade": true,
     "grade_id": "cell-1af64135f3359698",
     "locked": false,
     "points": 0,
     "schema_version": 1,
     "solution": true
    }
   },
   "source": [
    "I didn't really get to finish this part. I hope they match but I'm not quite sure. What I struggled with the most was defining the new methods for the node class. I didn't really understand how I could debugg and track the methods..."
   ]
  },
  {
   "cell_type": "code",
   "execution_count": null,
   "metadata": {},
   "outputs": [],
   "source": []
  }
 ],
 "metadata": {
  "celltoolbar": "Edit Metadata",
  "kernelspec": {
   "display_name": "Python 3",
   "language": "python",
   "name": "python3"
  },
  "language_info": {
   "codemirror_mode": {
    "name": "ipython",
    "version": 3
   },
   "file_extension": ".py",
   "mimetype": "text/x-python",
   "name": "python",
   "nbconvert_exporter": "python",
   "pygments_lexer": "ipython3",
   "version": "3.6.5"
  }
 },
 "nbformat": 4,
 "nbformat_minor": 2
}
